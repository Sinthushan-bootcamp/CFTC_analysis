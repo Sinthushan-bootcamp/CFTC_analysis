{
 "cells": [
  {
   "cell_type": "code",
   "execution_count": 1,
   "metadata": {},
   "outputs": [],
   "source": [
    "import numpy as np\n",
    "import pandas as pd\n",
    "import os\n",
    "import quandl as ql"
   ]
  },
  {
   "cell_type": "code",
   "execution_count": 2,
   "metadata": {},
   "outputs": [
    {
     "data": {
      "text/plain": [
       "True"
      ]
     },
     "execution_count": 2,
     "metadata": {},
     "output_type": "execute_result"
    }
   ],
   "source": [
    "from dotenv import load_dotenv\n",
    "load_dotenv()"
   ]
  },
  {
   "cell_type": "code",
   "execution_count": 3,
   "metadata": {},
   "outputs": [],
   "source": [
    "QUANDL_KEY = os.getenv(\"QUANDL_KEY\")"
   ]
  },
  {
   "cell_type": "code",
   "execution_count": 4,
   "metadata": {},
   "outputs": [],
   "source": [
    "ql.ApiConfig.api_key = QUANDL_KEY"
   ]
  },
  {
   "cell_type": "code",
   "execution_count": 117,
   "metadata": {},
   "outputs": [],
   "source": [
    "def cleanData(df, asset_class, security):\n",
    "    cleaned_df = df[['Noncommercial Long', 'Noncommercial Short']]\n",
    "    cleaned_df['net_noncomercial'] = cleaned_df['Noncommercial Long'] - cleaned_df['Noncommercial Short']\n",
    "    cleaned_df['asset_class'] = asset_class\n",
    "    cleaned_df['security'] = security\n",
    "    return cleaned_df[['asset_class','security','net_noncomercial']]"
   ]
  },
  {
   "cell_type": "code",
   "execution_count": 118,
   "metadata": {},
   "outputs": [],
   "source": [
    "def get_stats(df, window):\n",
    "    roling_df = df.rolling(window=window)\n",
    "    mean = roling_df.mean().shift(1)\n",
    "    std = roling_df.std(ddof=0).shift(1)\n",
    "    z_score = (df-mean)/std\n",
    "    return mean, std, z_score"
   ]
  },
  {
   "cell_type": "code",
   "execution_count": 143,
   "metadata": {},
   "outputs": [],
   "source": [
    "def get_stats_multi_interval(df, windows):\n",
    "    df_temp = pd.DataFrame()\n",
    "    for window in windows: \n",
    "        roling_df = df.rolling(window=window)\n",
    "        mean = roling_df.mean().shift(1)\n",
    "        std = roling_df.std(ddof=0).shift(1)\n",
    "        z_score = (df-mean)/std\n",
    "        df_temp[f\"mean_{window//57} years\"] = mean\n",
    "        df_temp[f\"std_{window//57} years\"] = std\n",
    "        df_temp[f\"z_score_{window//57} years\"] = z_score\n",
    "    return df_temp"
   ]
  },
  {
   "cell_type": "code",
   "execution_count": 144,
   "metadata": {},
   "outputs": [],
   "source": [
    "def createSummaryDF(df, interval):\n",
    "    #df = df.reset_index()\n",
    "    summary_df = pd.DataFrame()\n",
    "    for i in range(len(df.index)):\n",
    "        if i > interval and i % interval == 0:\n",
    "            summary_df = summary_df.append(df.iloc[i])\n",
    "    return summary_df"
   ]
  },
  {
   "cell_type": "code",
   "execution_count": 150,
   "metadata": {},
   "outputs": [
    {
     "name": "stderr",
     "output_type": "stream",
     "text": [
      "C:\\Users\\sinth\\anaconda3\\envs\\pyvizenv\\lib\\site-packages\\ipykernel_launcher.py:3: SettingWithCopyWarning: \n",
      "A value is trying to be set on a copy of a slice from a DataFrame.\n",
      "Try using .loc[row_indexer,col_indexer] = value instead\n",
      "\n",
      "See the caveats in the documentation: http://pandas.pydata.org/pandas-docs/stable/indexing.html#indexing-view-versus-copy\n",
      "  This is separate from the ipykernel package so we can avoid doing imports until\n",
      "C:\\Users\\sinth\\anaconda3\\envs\\pyvizenv\\lib\\site-packages\\ipykernel_launcher.py:4: SettingWithCopyWarning: \n",
      "A value is trying to be set on a copy of a slice from a DataFrame.\n",
      "Try using .loc[row_indexer,col_indexer] = value instead\n",
      "\n",
      "See the caveats in the documentation: http://pandas.pydata.org/pandas-docs/stable/indexing.html#indexing-view-versus-copy\n",
      "  after removing the cwd from sys.path.\n",
      "C:\\Users\\sinth\\anaconda3\\envs\\pyvizenv\\lib\\site-packages\\ipykernel_launcher.py:5: SettingWithCopyWarning: \n",
      "A value is trying to be set on a copy of a slice from a DataFrame.\n",
      "Try using .loc[row_indexer,col_indexer] = value instead\n",
      "\n",
      "See the caveats in the documentation: http://pandas.pydata.org/pandas-docs/stable/indexing.html#indexing-view-versus-copy\n",
      "  \"\"\"\n"
     ]
    },
    {
     "data": {
      "text/html": [
       "<div>\n",
       "<style scoped>\n",
       "    .dataframe tbody tr th:only-of-type {\n",
       "        vertical-align: middle;\n",
       "    }\n",
       "\n",
       "    .dataframe tbody tr th {\n",
       "        vertical-align: top;\n",
       "    }\n",
       "\n",
       "    .dataframe thead th {\n",
       "        text-align: right;\n",
       "    }\n",
       "</style>\n",
       "<table border=\"1\" class=\"dataframe\">\n",
       "  <thead>\n",
       "    <tr style=\"text-align: right;\">\n",
       "      <th></th>\n",
       "      <th>asset_class</th>\n",
       "      <th>security</th>\n",
       "      <th>net_noncomercial</th>\n",
       "      <th>mean_3 years</th>\n",
       "      <th>std_3 years</th>\n",
       "      <th>z_score_3 years</th>\n",
       "      <th>mean_5 years</th>\n",
       "      <th>std_5 years</th>\n",
       "      <th>z_score_5 years</th>\n",
       "      <th>mean_10 years</th>\n",
       "      <th>std_10 years</th>\n",
       "      <th>z_score_10 years</th>\n",
       "    </tr>\n",
       "    <tr>\n",
       "      <th>Date</th>\n",
       "      <th></th>\n",
       "      <th></th>\n",
       "      <th></th>\n",
       "      <th></th>\n",
       "      <th></th>\n",
       "      <th></th>\n",
       "      <th></th>\n",
       "      <th></th>\n",
       "      <th></th>\n",
       "      <th></th>\n",
       "      <th></th>\n",
       "      <th></th>\n",
       "    </tr>\n",
       "  </thead>\n",
       "  <tbody>\n",
       "    <tr>\n",
       "      <th>2020-07-14</th>\n",
       "      <td>Commodity</td>\n",
       "      <td>Silver</td>\n",
       "      <td>43348.0</td>\n",
       "      <td>31516.654971</td>\n",
       "      <td>29995.960843</td>\n",
       "      <td>0.394431</td>\n",
       "      <td>39700.424561</td>\n",
       "      <td>30407.65898</td>\n",
       "      <td>0.119956</td>\n",
       "      <td>33113.691228</td>\n",
       "      <td>24501.830992</td>\n",
       "      <td>0.417696</td>\n",
       "    </tr>\n",
       "  </tbody>\n",
       "</table>\n",
       "</div>"
      ],
      "text/plain": [
       "           asset_class security  net_noncomercial  mean_3 years   std_3 years  \\\n",
       "Date                                                                            \n",
       "2020-07-14   Commodity   Silver           43348.0  31516.654971  29995.960843   \n",
       "\n",
       "            z_score_3 years  mean_5 years  std_5 years  z_score_5 years  \\\n",
       "Date                                                                      \n",
       "2020-07-14         0.394431  39700.424561  30407.65898         0.119956   \n",
       "\n",
       "            mean_10 years  std_10 years  z_score_10 years  \n",
       "Date                                                       \n",
       "2020-07-14   33113.691228  24501.830992          0.417696  "
      ]
     },
     "execution_count": 150,
     "metadata": {},
     "output_type": "execute_result"
    }
   ],
   "source": [
    "data = ql.get('CFTC/084691_FO_L_ALL')\n",
    "interval = 52*3\n",
    "data_cleaned = cleanData(data, \"Commodity\", 'Silver')\n",
    "stats_df = get_stats_multi_interval(data_cleaned.loc[:,'net_noncomercial'],[57*3,57*5,57*10])\n",
    "df_concate = pd.concat([data_cleaned,stats_df], join='inner', axis=1)\n",
    "summary_df = df_concate.last('1d')\n",
    "summary_df"
   ]
  },
  {
   "cell_type": "code",
   "execution_count": 38,
   "metadata": {},
   "outputs": [
    {
     "data": {
      "text/plain": [
       "0            NaN\n",
       "1            NaN\n",
       "2            NaN\n",
       "3            NaN\n",
       "4            NaN\n",
       "5            NaN\n",
       "6            NaN\n",
       "7            NaN\n",
       "8            NaN\n",
       "9            NaN\n",
       "10           NaN\n",
       "11           NaN\n",
       "12           NaN\n",
       "13           NaN\n",
       "14           NaN\n",
       "15           NaN\n",
       "16           NaN\n",
       "17           NaN\n",
       "18           NaN\n",
       "19           NaN\n",
       "20           NaN\n",
       "21           NaN\n",
       "22           NaN\n",
       "23           NaN\n",
       "24           NaN\n",
       "25           NaN\n",
       "26           NaN\n",
       "27           NaN\n",
       "28           NaN\n",
       "29           NaN\n",
       "          ...   \n",
       "1291    0.976593\n",
       "1292    1.179668\n",
       "1293    1.105988\n",
       "1294    1.069950\n",
       "1295    1.116454\n",
       "1296    0.905019\n",
       "1297    1.069745\n",
       "1298    1.054140\n",
       "1299    1.452865\n",
       "1300    1.281894\n",
       "1301    0.395215\n",
       "1302    0.340840\n",
       "1303    0.111170\n",
       "1304   -0.111851\n",
       "1305   -0.101784\n",
       "1306   -0.114042\n",
       "1307   -0.070415\n",
       "1308   -0.166777\n",
       "1309   -0.165518\n",
       "1310   -0.268039\n",
       "1311   -0.164133\n",
       "1312    0.075246\n",
       "1313    0.259001\n",
       "1314    0.282263\n",
       "1315    0.148331\n",
       "1316    0.270727\n",
       "1317    0.314109\n",
       "1318    0.327531\n",
       "1319    0.310520\n",
       "1320    0.519813\n",
       "Name: zscore, Length: 1321, dtype: float64"
      ]
     },
     "execution_count": 38,
     "metadata": {},
     "output_type": "execute_result"
    }
   ],
   "source": [
    "\n"
   ]
  },
  {
   "cell_type": "code",
   "execution_count": 20,
   "metadata": {},
   "outputs": [
    {
     "data": {
      "text/plain": [
       "Int64Index([21, 28,  4, 18, 25,  2,  9, 16, 23, 30,\n",
       "            ...\n",
       "            12, 19, 26,  2,  9, 16, 23, 30,  7, 14],\n",
       "           dtype='int64', name='Date', length=1321)"
      ]
     },
     "execution_count": 20,
     "metadata": {},
     "output_type": "execute_result"
    }
   ],
   "source": []
  },
  {
   "cell_type": "code",
   "execution_count": 21,
   "metadata": {},
   "outputs": [
    {
     "data": {
      "text/plain": [
       "DatetimeIndex(['1995-03-21', '1995-03-28', '1995-04-04', '1995-04-18',\n",
       "               '1995-04-25', '1995-05-02', '1995-05-09', '1995-05-16',\n",
       "               '1995-05-23', '1995-05-30',\n",
       "               ...\n",
       "               '2020-05-12', '2020-05-19', '2020-05-26', '2020-06-02',\n",
       "               '2020-06-09', '2020-06-16', '2020-06-23', '2020-06-30',\n",
       "               '2020-07-07', '2020-07-14'],\n",
       "              dtype='datetime64[ns]', name='Date', length=1321, freq=None)"
      ]
     },
     "execution_count": 21,
     "metadata": {},
     "output_type": "execute_result"
    }
   ],
   "source": []
  },
  {
   "cell_type": "code",
   "execution_count": null,
   "metadata": {},
   "outputs": [],
   "source": []
  }
 ],
 "metadata": {
  "kernelspec": {
   "display_name": "Python [conda env:pyvizenv]",
   "language": "python",
   "name": "conda-env-pyvizenv-py"
  },
  "language_info": {
   "codemirror_mode": {
    "name": "ipython",
    "version": 3
   },
   "file_extension": ".py",
   "mimetype": "text/x-python",
   "name": "python",
   "nbconvert_exporter": "python",
   "pygments_lexer": "ipython3",
   "version": "3.7.7"
  }
 },
 "nbformat": 4,
 "nbformat_minor": 4
}
