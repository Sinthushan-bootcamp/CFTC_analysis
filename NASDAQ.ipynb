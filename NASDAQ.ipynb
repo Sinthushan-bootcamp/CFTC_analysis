{
 "cells": [
  {
   "cell_type": "code",
   "execution_count": 1,
   "metadata": {},
   "outputs": [
    {
     "name": "stderr",
     "output_type": "stream",
     "text": [
      "\n",
      "Bad key \"text.kerning_factor\" on line 4 in\n",
      "C:\\Users\\abuub\\anaconda3\\envs\\pyvizenv\\lib\\site-packages\\matplotlib\\mpl-data\\stylelib\\_classic_test_patch.mplstyle.\n",
      "You probably need to get an updated matplotlibrc file from\n",
      "http://github.com/matplotlib/matplotlib/blob/master/matplotlibrc.template\n",
      "or from the matplotlib source distribution\n"
     ]
    }
   ],
   "source": [
    "import numpy as np\n",
    "import pandas as pd\n",
    "import yfinance as yf\n",
    "import matplotlib.pyplot as plt\n",
    "import datetime\n",
    "import quandl as ql\n",
    "from scipy import stats\n",
    "from pathlib import Path\n",
    "\n",
    "%matplotlib inline"
   ]
  },
  {
   "cell_type": "markdown",
   "metadata": {},
   "source": [
    "# NASDAQ CFTC Analysis\n",
    "#### (i)Clean data; (ii)Calculate 'Net Non-commercial contracts'; (iii)Calculate  z-scores; (iv)Add security data to list; (v)Plot results; (vi) Plot price chart"
   ]
  },
  {
   "cell_type": "code",
   "execution_count": 2,
   "metadata": {},
   "outputs": [
    {
     "data": {
      "text/html": [
       "<div>\n",
       "<style scoped>\n",
       "    .dataframe tbody tr th:only-of-type {\n",
       "        vertical-align: middle;\n",
       "    }\n",
       "\n",
       "    .dataframe tbody tr th {\n",
       "        vertical-align: top;\n",
       "    }\n",
       "\n",
       "    .dataframe thead th {\n",
       "        text-align: right;\n",
       "    }\n",
       "</style>\n",
       "<table border=\"1\" class=\"dataframe\">\n",
       "  <thead>\n",
       "    <tr style=\"text-align: right;\">\n",
       "      <th></th>\n",
       "      <th>Open Interest</th>\n",
       "      <th>Noncommercial Long</th>\n",
       "      <th>Noncommercial Short</th>\n",
       "      <th>Noncommercial Spreads</th>\n",
       "      <th>Commercial Long</th>\n",
       "      <th>Commercial Short</th>\n",
       "      <th>Total Long</th>\n",
       "      <th>Total Short</th>\n",
       "      <th>Nonreportable Positions Long</th>\n",
       "      <th>Nonreportable Positions Short</th>\n",
       "    </tr>\n",
       "    <tr>\n",
       "      <th>Date</th>\n",
       "      <th></th>\n",
       "      <th></th>\n",
       "      <th></th>\n",
       "      <th></th>\n",
       "      <th></th>\n",
       "      <th></th>\n",
       "      <th></th>\n",
       "      <th></th>\n",
       "      <th></th>\n",
       "      <th></th>\n",
       "    </tr>\n",
       "  </thead>\n",
       "  <tbody>\n",
       "    <tr>\n",
       "      <th>1999-06-22</th>\n",
       "      <td>537.0</td>\n",
       "      <td>227.0</td>\n",
       "      <td>40.0</td>\n",
       "      <td>0.0</td>\n",
       "      <td>10.0</td>\n",
       "      <td>154.0</td>\n",
       "      <td>237.0</td>\n",
       "      <td>194.0</td>\n",
       "      <td>300.0</td>\n",
       "      <td>343.0</td>\n",
       "    </tr>\n",
       "    <tr>\n",
       "      <th>1999-06-29</th>\n",
       "      <td>1299.0</td>\n",
       "      <td>517.0</td>\n",
       "      <td>251.0</td>\n",
       "      <td>0.0</td>\n",
       "      <td>383.0</td>\n",
       "      <td>618.0</td>\n",
       "      <td>900.0</td>\n",
       "      <td>869.0</td>\n",
       "      <td>399.0</td>\n",
       "      <td>430.0</td>\n",
       "    </tr>\n",
       "    <tr>\n",
       "      <th>1999-07-06</th>\n",
       "      <td>1525.0</td>\n",
       "      <td>510.0</td>\n",
       "      <td>348.0</td>\n",
       "      <td>5.0</td>\n",
       "      <td>576.0</td>\n",
       "      <td>650.0</td>\n",
       "      <td>1091.0</td>\n",
       "      <td>1003.0</td>\n",
       "      <td>434.0</td>\n",
       "      <td>522.0</td>\n",
       "    </tr>\n",
       "    <tr>\n",
       "      <th>1999-07-13</th>\n",
       "      <td>2236.0</td>\n",
       "      <td>1293.0</td>\n",
       "      <td>325.0</td>\n",
       "      <td>5.0</td>\n",
       "      <td>470.0</td>\n",
       "      <td>1399.0</td>\n",
       "      <td>1768.0</td>\n",
       "      <td>1729.0</td>\n",
       "      <td>468.0</td>\n",
       "      <td>507.0</td>\n",
       "    </tr>\n",
       "    <tr>\n",
       "      <th>1999-07-20</th>\n",
       "      <td>2653.0</td>\n",
       "      <td>1663.0</td>\n",
       "      <td>450.0</td>\n",
       "      <td>73.0</td>\n",
       "      <td>416.0</td>\n",
       "      <td>1625.0</td>\n",
       "      <td>2152.0</td>\n",
       "      <td>2148.0</td>\n",
       "      <td>501.0</td>\n",
       "      <td>505.0</td>\n",
       "    </tr>\n",
       "  </tbody>\n",
       "</table>\n",
       "</div>"
      ],
      "text/plain": [
       "            Open Interest  Noncommercial Long  Noncommercial Short  \\\n",
       "Date                                                                 \n",
       "1999-06-22          537.0               227.0                 40.0   \n",
       "1999-06-29         1299.0               517.0                251.0   \n",
       "1999-07-06         1525.0               510.0                348.0   \n",
       "1999-07-13         2236.0              1293.0                325.0   \n",
       "1999-07-20         2653.0              1663.0                450.0   \n",
       "\n",
       "            Noncommercial Spreads  Commercial Long  Commercial Short  \\\n",
       "Date                                                                   \n",
       "1999-06-22                    0.0             10.0             154.0   \n",
       "1999-06-29                    0.0            383.0             618.0   \n",
       "1999-07-06                    5.0            576.0             650.0   \n",
       "1999-07-13                    5.0            470.0            1399.0   \n",
       "1999-07-20                   73.0            416.0            1625.0   \n",
       "\n",
       "            Total Long  Total Short  Nonreportable Positions Long  \\\n",
       "Date                                                                \n",
       "1999-06-22       237.0        194.0                         300.0   \n",
       "1999-06-29       900.0        869.0                         399.0   \n",
       "1999-07-06      1091.0       1003.0                         434.0   \n",
       "1999-07-13      1768.0       1729.0                         468.0   \n",
       "1999-07-20      2152.0       2148.0                         501.0   \n",
       "\n",
       "            Nonreportable Positions Short  \n",
       "Date                                       \n",
       "1999-06-22                          343.0  \n",
       "1999-06-29                          430.0  \n",
       "1999-07-06                          522.0  \n",
       "1999-07-13                          507.0  \n",
       "1999-07-20                          505.0  "
      ]
     },
     "execution_count": 2,
     "metadata": {},
     "output_type": "execute_result"
    }
   ],
   "source": [
    "#Getting CFTC data from Quandl\n",
    "ql.ApiConfig.api_key = 'tJdgrzhuFvMvkw--DdYw'\n",
    "nasdaq_data = ql.get('CFTC/209742_FO_L_ALL')\n",
    "nasdaq_data.head()"
   ]
  },
  {
   "cell_type": "code",
   "execution_count": 3,
   "metadata": {},
   "outputs": [
    {
     "data": {
      "text/html": [
       "<div>\n",
       "<style scoped>\n",
       "    .dataframe tbody tr th:only-of-type {\n",
       "        vertical-align: middle;\n",
       "    }\n",
       "\n",
       "    .dataframe tbody tr th {\n",
       "        vertical-align: top;\n",
       "    }\n",
       "\n",
       "    .dataframe thead th {\n",
       "        text-align: right;\n",
       "    }\n",
       "</style>\n",
       "<table border=\"1\" class=\"dataframe\">\n",
       "  <thead>\n",
       "    <tr style=\"text-align: right;\">\n",
       "      <th></th>\n",
       "      <th>Noncommercial Long</th>\n",
       "      <th>Noncommercial Short</th>\n",
       "    </tr>\n",
       "    <tr>\n",
       "      <th>Date</th>\n",
       "      <th></th>\n",
       "      <th></th>\n",
       "    </tr>\n",
       "  </thead>\n",
       "  <tbody>\n",
       "    <tr>\n",
       "      <th>1999-06-22</th>\n",
       "      <td>227.0</td>\n",
       "      <td>40.0</td>\n",
       "    </tr>\n",
       "    <tr>\n",
       "      <th>1999-06-29</th>\n",
       "      <td>517.0</td>\n",
       "      <td>251.0</td>\n",
       "    </tr>\n",
       "    <tr>\n",
       "      <th>1999-07-06</th>\n",
       "      <td>510.0</td>\n",
       "      <td>348.0</td>\n",
       "    </tr>\n",
       "    <tr>\n",
       "      <th>1999-07-13</th>\n",
       "      <td>1293.0</td>\n",
       "      <td>325.0</td>\n",
       "    </tr>\n",
       "    <tr>\n",
       "      <th>1999-07-20</th>\n",
       "      <td>1663.0</td>\n",
       "      <td>450.0</td>\n",
       "    </tr>\n",
       "  </tbody>\n",
       "</table>\n",
       "</div>"
      ],
      "text/plain": [
       "            Noncommercial Long  Noncommercial Short\n",
       "Date                                               \n",
       "1999-06-22               227.0                 40.0\n",
       "1999-06-29               517.0                251.0\n",
       "1999-07-06               510.0                348.0\n",
       "1999-07-13              1293.0                325.0\n",
       "1999-07-20              1663.0                450.0"
      ]
     },
     "execution_count": 3,
     "metadata": {},
     "output_type": "execute_result"
    }
   ],
   "source": [
    "nas_data_noncommerical = nasdaq_data[['Noncommercial Long','Noncommercial Short']]\n",
    "nas_data_noncommerical.head()"
   ]
  },
  {
   "cell_type": "code",
   "execution_count": 4,
   "metadata": {},
   "outputs": [],
   "source": [
    "nas_data_noncommerical.to_csv('nasdaq.csv')"
   ]
  },
  {
   "cell_type": "code",
   "execution_count": 5,
   "metadata": {},
   "outputs": [
    {
     "name": "stderr",
     "output_type": "stream",
     "text": [
      "C:\\Users\\abuub\\anaconda3\\envs\\pyvizenv\\lib\\site-packages\\ipykernel_launcher.py:1: SettingWithCopyWarning: \n",
      "A value is trying to be set on a copy of a slice from a DataFrame.\n",
      "Try using .loc[row_indexer,col_indexer] = value instead\n",
      "\n",
      "See the caveats in the documentation: http://pandas.pydata.org/pandas-docs/stable/indexing.html#indexing-view-versus-copy\n",
      "  \"\"\"Entry point for launching an IPython kernel.\n"
     ]
    }
   ],
   "source": [
    "nas_data_noncommerical[\"Net Noncommercial Futures/Options\"] = nas_data_noncommerical[\"Noncommercial Long\"] - nas_data_noncommerical[\"Noncommercial Short\"]"
   ]
  },
  {
   "cell_type": "code",
   "execution_count": 6,
   "metadata": {},
   "outputs": [
    {
     "data": {
      "text/html": [
       "<div>\n",
       "<style scoped>\n",
       "    .dataframe tbody tr th:only-of-type {\n",
       "        vertical-align: middle;\n",
       "    }\n",
       "\n",
       "    .dataframe tbody tr th {\n",
       "        vertical-align: top;\n",
       "    }\n",
       "\n",
       "    .dataframe thead th {\n",
       "        text-align: right;\n",
       "    }\n",
       "</style>\n",
       "<table border=\"1\" class=\"dataframe\">\n",
       "  <thead>\n",
       "    <tr style=\"text-align: right;\">\n",
       "      <th></th>\n",
       "      <th>Noncommercial Long</th>\n",
       "      <th>Noncommercial Short</th>\n",
       "      <th>Net Noncommercial Futures/Options</th>\n",
       "    </tr>\n",
       "    <tr>\n",
       "      <th>Date</th>\n",
       "      <th></th>\n",
       "      <th></th>\n",
       "      <th></th>\n",
       "    </tr>\n",
       "  </thead>\n",
       "  <tbody>\n",
       "    <tr>\n",
       "      <th>1999-06-22</th>\n",
       "      <td>227.0</td>\n",
       "      <td>40.0</td>\n",
       "      <td>187.0</td>\n",
       "    </tr>\n",
       "    <tr>\n",
       "      <th>1999-06-29</th>\n",
       "      <td>517.0</td>\n",
       "      <td>251.0</td>\n",
       "      <td>266.0</td>\n",
       "    </tr>\n",
       "    <tr>\n",
       "      <th>1999-07-06</th>\n",
       "      <td>510.0</td>\n",
       "      <td>348.0</td>\n",
       "      <td>162.0</td>\n",
       "    </tr>\n",
       "    <tr>\n",
       "      <th>1999-07-13</th>\n",
       "      <td>1293.0</td>\n",
       "      <td>325.0</td>\n",
       "      <td>968.0</td>\n",
       "    </tr>\n",
       "    <tr>\n",
       "      <th>1999-07-20</th>\n",
       "      <td>1663.0</td>\n",
       "      <td>450.0</td>\n",
       "      <td>1213.0</td>\n",
       "    </tr>\n",
       "  </tbody>\n",
       "</table>\n",
       "</div>"
      ],
      "text/plain": [
       "            Noncommercial Long  Noncommercial Short  \\\n",
       "Date                                                  \n",
       "1999-06-22               227.0                 40.0   \n",
       "1999-06-29               517.0                251.0   \n",
       "1999-07-06               510.0                348.0   \n",
       "1999-07-13              1293.0                325.0   \n",
       "1999-07-20              1663.0                450.0   \n",
       "\n",
       "            Net Noncommercial Futures/Options  \n",
       "Date                                           \n",
       "1999-06-22                              187.0  \n",
       "1999-06-29                              266.0  \n",
       "1999-07-06                              162.0  \n",
       "1999-07-13                              968.0  \n",
       "1999-07-20                             1213.0  "
      ]
     },
     "execution_count": 6,
     "metadata": {},
     "output_type": "execute_result"
    }
   ],
   "source": [
    "nas_data_noncommerical.head()"
   ]
  },
  {
   "cell_type": "code",
   "execution_count": 7,
   "metadata": {},
   "outputs": [
    {
     "name": "stderr",
     "output_type": "stream",
     "text": [
      "C:\\Users\\abuub\\anaconda3\\envs\\pyvizenv\\lib\\site-packages\\ipykernel_launcher.py:1: SettingWithCopyWarning: \n",
      "A value is trying to be set on a copy of a slice from a DataFrame.\n",
      "Try using .loc[row_indexer,col_indexer] = value instead\n",
      "\n",
      "See the caveats in the documentation: http://pandas.pydata.org/pandas-docs/stable/indexing.html#indexing-view-versus-copy\n",
      "  \"\"\"Entry point for launching an IPython kernel.\n"
     ]
    }
   ],
   "source": [
    "nas_data_noncommerical['zscore']=stats.zscore(nas_data_noncommerical[\"Net Noncommercial Futures/Options\"])"
   ]
  },
  {
   "cell_type": "code",
   "execution_count": 8,
   "metadata": {},
   "outputs": [
    {
     "data": {
      "text/html": [
       "<div>\n",
       "<style scoped>\n",
       "    .dataframe tbody tr th:only-of-type {\n",
       "        vertical-align: middle;\n",
       "    }\n",
       "\n",
       "    .dataframe tbody tr th {\n",
       "        vertical-align: top;\n",
       "    }\n",
       "\n",
       "    .dataframe thead th {\n",
       "        text-align: right;\n",
       "    }\n",
       "</style>\n",
       "<table border=\"1\" class=\"dataframe\">\n",
       "  <thead>\n",
       "    <tr style=\"text-align: right;\">\n",
       "      <th></th>\n",
       "      <th>Noncommercial Long</th>\n",
       "      <th>Noncommercial Short</th>\n",
       "      <th>Net Noncommercial Futures/Options</th>\n",
       "      <th>zscore</th>\n",
       "    </tr>\n",
       "    <tr>\n",
       "      <th>Date</th>\n",
       "      <th></th>\n",
       "      <th></th>\n",
       "      <th></th>\n",
       "      <th></th>\n",
       "    </tr>\n",
       "  </thead>\n",
       "  <tbody>\n",
       "    <tr>\n",
       "      <th>1999-06-22</th>\n",
       "      <td>227.0</td>\n",
       "      <td>40.0</td>\n",
       "      <td>187.0</td>\n",
       "      <td>-0.479589</td>\n",
       "    </tr>\n",
       "    <tr>\n",
       "      <th>1999-06-29</th>\n",
       "      <td>517.0</td>\n",
       "      <td>251.0</td>\n",
       "      <td>266.0</td>\n",
       "      <td>-0.477927</td>\n",
       "    </tr>\n",
       "    <tr>\n",
       "      <th>1999-07-06</th>\n",
       "      <td>510.0</td>\n",
       "      <td>348.0</td>\n",
       "      <td>162.0</td>\n",
       "      <td>-0.480114</td>\n",
       "    </tr>\n",
       "    <tr>\n",
       "      <th>1999-07-13</th>\n",
       "      <td>1293.0</td>\n",
       "      <td>325.0</td>\n",
       "      <td>968.0</td>\n",
       "      <td>-0.463167</td>\n",
       "    </tr>\n",
       "    <tr>\n",
       "      <th>1999-07-20</th>\n",
       "      <td>1663.0</td>\n",
       "      <td>450.0</td>\n",
       "      <td>1213.0</td>\n",
       "      <td>-0.458016</td>\n",
       "    </tr>\n",
       "  </tbody>\n",
       "</table>\n",
       "</div>"
      ],
      "text/plain": [
       "            Noncommercial Long  Noncommercial Short  \\\n",
       "Date                                                  \n",
       "1999-06-22               227.0                 40.0   \n",
       "1999-06-29               517.0                251.0   \n",
       "1999-07-06               510.0                348.0   \n",
       "1999-07-13              1293.0                325.0   \n",
       "1999-07-20              1663.0                450.0   \n",
       "\n",
       "            Net Noncommercial Futures/Options    zscore  \n",
       "Date                                                     \n",
       "1999-06-22                              187.0 -0.479589  \n",
       "1999-06-29                              266.0 -0.477927  \n",
       "1999-07-06                              162.0 -0.480114  \n",
       "1999-07-13                              968.0 -0.463167  \n",
       "1999-07-20                             1213.0 -0.458016  "
      ]
     },
     "execution_count": 8,
     "metadata": {},
     "output_type": "execute_result"
    }
   ],
   "source": [
    "nas_data_noncommerical.head()"
   ]
  },
  {
   "cell_type": "code",
   "execution_count": 9,
   "metadata": {},
   "outputs": [
    {
     "name": "stderr",
     "output_type": "stream",
     "text": [
      "C:\\Users\\abuub\\anaconda3\\envs\\pyvizenv\\lib\\site-packages\\ipykernel_launcher.py:2: SettingWithCopyWarning: \n",
      "A value is trying to be set on a copy of a slice from a DataFrame.\n",
      "Try using .loc[row_indexer,col_indexer] = value instead\n",
      "\n",
      "See the caveats in the documentation: http://pandas.pydata.org/pandas-docs/stable/indexing.html#indexing-view-versus-copy\n",
      "  \n"
     ]
    }
   ],
   "source": [
    "nas_data_noncommerical.reset_index(inplace=True)\n",
    "nas_data_noncommerical['year'] = nas_data_noncommerical['Date'].dt.year\n",
    "nas_data_per_year=nas_data_noncommerical.groupby(['year'])[[\"zscore\"]].mean()"
   ]
  },
  {
   "cell_type": "code",
   "execution_count": 10,
   "metadata": {},
   "outputs": [
    {
     "data": {
      "text/html": [
       "<div>\n",
       "<style scoped>\n",
       "    .dataframe tbody tr th:only-of-type {\n",
       "        vertical-align: middle;\n",
       "    }\n",
       "\n",
       "    .dataframe tbody tr th {\n",
       "        vertical-align: top;\n",
       "    }\n",
       "\n",
       "    .dataframe thead th {\n",
       "        text-align: right;\n",
       "    }\n",
       "</style>\n",
       "<table border=\"1\" class=\"dataframe\">\n",
       "  <thead>\n",
       "    <tr style=\"text-align: right;\">\n",
       "      <th></th>\n",
       "      <th>zscore</th>\n",
       "    </tr>\n",
       "    <tr>\n",
       "      <th>year</th>\n",
       "      <th></th>\n",
       "    </tr>\n",
       "  </thead>\n",
       "  <tbody>\n",
       "    <tr>\n",
       "      <th>1999</th>\n",
       "      <td>-0.450912</td>\n",
       "    </tr>\n",
       "    <tr>\n",
       "      <th>2000</th>\n",
       "      <td>-0.540472</td>\n",
       "    </tr>\n",
       "    <tr>\n",
       "      <th>2001</th>\n",
       "      <td>-0.481694</td>\n",
       "    </tr>\n",
       "    <tr>\n",
       "      <th>2002</th>\n",
       "      <td>-0.482326</td>\n",
       "    </tr>\n",
       "    <tr>\n",
       "      <th>2003</th>\n",
       "      <td>0.183499</td>\n",
       "    </tr>\n",
       "  </tbody>\n",
       "</table>\n",
       "</div>"
      ],
      "text/plain": [
       "        zscore\n",
       "year          \n",
       "1999 -0.450912\n",
       "2000 -0.540472\n",
       "2001 -0.481694\n",
       "2002 -0.482326\n",
       "2003  0.183499"
      ]
     },
     "execution_count": 10,
     "metadata": {},
     "output_type": "execute_result"
    }
   ],
   "source": [
    "# Display sample data\n",
    "nas_data_per_year.head()"
   ]
  },
  {
   "cell_type": "code",
   "execution_count": 11,
   "metadata": {},
   "outputs": [
    {
     "data": {
      "text/html": [
       "<div>\n",
       "<style scoped>\n",
       "    .dataframe tbody tr th:only-of-type {\n",
       "        vertical-align: middle;\n",
       "    }\n",
       "\n",
       "    .dataframe tbody tr th {\n",
       "        vertical-align: top;\n",
       "    }\n",
       "\n",
       "    .dataframe thead th {\n",
       "        text-align: right;\n",
       "    }\n",
       "</style>\n",
       "<table border=\"1\" class=\"dataframe\">\n",
       "  <thead>\n",
       "    <tr style=\"text-align: right;\">\n",
       "      <th></th>\n",
       "      <th>Date</th>\n",
       "      <th>Open</th>\n",
       "      <th>High</th>\n",
       "      <th>Low</th>\n",
       "      <th>Close</th>\n",
       "      <th>Adj Close</th>\n",
       "      <th>Volume</th>\n",
       "    </tr>\n",
       "  </thead>\n",
       "  <tbody>\n",
       "    <tr>\n",
       "      <th>0</th>\n",
       "      <td>1999-01-25</td>\n",
       "      <td>2363.479980</td>\n",
       "      <td>2369.689941</td>\n",
       "      <td>2328.739990</td>\n",
       "      <td>2369.310059</td>\n",
       "      <td>2369.310059</td>\n",
       "      <td>870960000</td>\n",
       "    </tr>\n",
       "    <tr>\n",
       "      <th>1</th>\n",
       "      <td>1999-01-26</td>\n",
       "      <td>2388.969971</td>\n",
       "      <td>2434.370117</td>\n",
       "      <td>2384.629883</td>\n",
       "      <td>2433.409912</td>\n",
       "      <td>2433.409912</td>\n",
       "      <td>1030160000</td>\n",
       "    </tr>\n",
       "    <tr>\n",
       "      <th>2</th>\n",
       "      <td>1999-01-27</td>\n",
       "      <td>2455.250000</td>\n",
       "      <td>2464.120117</td>\n",
       "      <td>2406.780029</td>\n",
       "      <td>2407.139893</td>\n",
       "      <td>2407.139893</td>\n",
       "      <td>1034480000</td>\n",
       "    </tr>\n",
       "    <tr>\n",
       "      <th>3</th>\n",
       "      <td>1999-01-28</td>\n",
       "      <td>2442.520020</td>\n",
       "      <td>2477.469971</td>\n",
       "      <td>2407.139893</td>\n",
       "      <td>2477.340088</td>\n",
       "      <td>2477.340088</td>\n",
       "      <td>1013890000</td>\n",
       "    </tr>\n",
       "    <tr>\n",
       "      <th>4</th>\n",
       "      <td>1999-01-29</td>\n",
       "      <td>2486.280029</td>\n",
       "      <td>2506.679932</td>\n",
       "      <td>2454.709961</td>\n",
       "      <td>2505.889893</td>\n",
       "      <td>2505.889893</td>\n",
       "      <td>1057120000</td>\n",
       "    </tr>\n",
       "  </tbody>\n",
       "</table>\n",
       "</div>"
      ],
      "text/plain": [
       "         Date         Open         High          Low        Close  \\\n",
       "0  1999-01-25  2363.479980  2369.689941  2328.739990  2369.310059   \n",
       "1  1999-01-26  2388.969971  2434.370117  2384.629883  2433.409912   \n",
       "2  1999-01-27  2455.250000  2464.120117  2406.780029  2407.139893   \n",
       "3  1999-01-28  2442.520020  2477.469971  2407.139893  2477.340088   \n",
       "4  1999-01-29  2486.280029  2506.679932  2454.709961  2505.889893   \n",
       "\n",
       "     Adj Close      Volume  \n",
       "0  2369.310059   870960000  \n",
       "1  2433.409912  1030160000  \n",
       "2  2407.139893  1034480000  \n",
       "3  2477.340088  1013890000  \n",
       "4  2505.889893  1057120000  "
      ]
     },
     "execution_count": 11,
     "metadata": {},
     "output_type": "execute_result"
    }
   ],
   "source": [
    "file_path = Path(\"Data/nasdaq_rep.csv\")\n",
    "nasdaq_data = pd.read_csv(file_path)\n",
    "nasdaq_data.head()"
   ]
  },
  {
   "cell_type": "code",
   "execution_count": 12,
   "metadata": {},
   "outputs": [
    {
     "data": {
      "text/html": [
       "<div>\n",
       "<style scoped>\n",
       "    .dataframe tbody tr th:only-of-type {\n",
       "        vertical-align: middle;\n",
       "    }\n",
       "\n",
       "    .dataframe tbody tr th {\n",
       "        vertical-align: top;\n",
       "    }\n",
       "\n",
       "    .dataframe thead th {\n",
       "        text-align: right;\n",
       "    }\n",
       "</style>\n",
       "<table border=\"1\" class=\"dataframe\">\n",
       "  <thead>\n",
       "    <tr style=\"text-align: right;\">\n",
       "      <th></th>\n",
       "      <th>Adj Close</th>\n",
       "    </tr>\n",
       "    <tr>\n",
       "      <th>year</th>\n",
       "      <th></th>\n",
       "    </tr>\n",
       "  </thead>\n",
       "  <tbody>\n",
       "    <tr>\n",
       "      <th>1999</th>\n",
       "      <td>654887.680661</td>\n",
       "    </tr>\n",
       "    <tr>\n",
       "      <th>2000</th>\n",
       "      <td>953485.682135</td>\n",
       "    </tr>\n",
       "    <tr>\n",
       "      <th>2001</th>\n",
       "      <td>504678.989255</td>\n",
       "    </tr>\n",
       "    <tr>\n",
       "      <th>2002</th>\n",
       "      <td>388012.350092</td>\n",
       "    </tr>\n",
       "    <tr>\n",
       "      <th>2003</th>\n",
       "      <td>415086.069949</td>\n",
       "    </tr>\n",
       "  </tbody>\n",
       "</table>\n",
       "</div>"
      ],
      "text/plain": [
       "          Adj Close\n",
       "year               \n",
       "1999  654887.680661\n",
       "2000  953485.682135\n",
       "2001  504678.989255\n",
       "2002  388012.350092\n",
       "2003  415086.069949"
      ]
     },
     "execution_count": 12,
     "metadata": {},
     "output_type": "execute_result"
    }
   ],
   "source": [
    "nasdaq_data['Date'] = nasdaq_data['Date'].astype('datetime64[ns]') \n",
    "nasdaq_data['year'] = nasdaq_data['Date'].dt.year\n",
    "nasdaq_return_year=nasdaq_data.groupby(['year'])[['Adj Close']].sum()\n",
    "nasdaq_return_year.head()"
   ]
  },
  {
   "cell_type": "code",
   "execution_count": 13,
   "metadata": {},
   "outputs": [
    {
     "data": {
      "text/html": [
       "<div>\n",
       "<style scoped>\n",
       "    .dataframe tbody tr th:only-of-type {\n",
       "        vertical-align: middle;\n",
       "    }\n",
       "\n",
       "    .dataframe tbody tr th {\n",
       "        vertical-align: top;\n",
       "    }\n",
       "\n",
       "    .dataframe thead th {\n",
       "        text-align: right;\n",
       "    }\n",
       "</style>\n",
       "<table border=\"1\" class=\"dataframe\">\n",
       "  <thead>\n",
       "    <tr style=\"text-align: right;\">\n",
       "      <th></th>\n",
       "      <th>Adj Close</th>\n",
       "      <th>Returns</th>\n",
       "    </tr>\n",
       "    <tr>\n",
       "      <th>year</th>\n",
       "      <th></th>\n",
       "      <th></th>\n",
       "    </tr>\n",
       "  </thead>\n",
       "  <tbody>\n",
       "    <tr>\n",
       "      <th>1999</th>\n",
       "      <td>654887.680661</td>\n",
       "      <td>NaN</td>\n",
       "    </tr>\n",
       "    <tr>\n",
       "      <th>2000</th>\n",
       "      <td>953485.682135</td>\n",
       "      <td>0.455953</td>\n",
       "    </tr>\n",
       "    <tr>\n",
       "      <th>2001</th>\n",
       "      <td>504678.989255</td>\n",
       "      <td>-0.470701</td>\n",
       "    </tr>\n",
       "    <tr>\n",
       "      <th>2002</th>\n",
       "      <td>388012.350092</td>\n",
       "      <td>-0.231170</td>\n",
       "    </tr>\n",
       "    <tr>\n",
       "      <th>2003</th>\n",
       "      <td>415086.069949</td>\n",
       "      <td>0.069775</td>\n",
       "    </tr>\n",
       "  </tbody>\n",
       "</table>\n",
       "</div>"
      ],
      "text/plain": [
       "          Adj Close   Returns\n",
       "year                         \n",
       "1999  654887.680661       NaN\n",
       "2000  953485.682135  0.455953\n",
       "2001  504678.989255 -0.470701\n",
       "2002  388012.350092 -0.231170\n",
       "2003  415086.069949  0.069775"
      ]
     },
     "execution_count": 13,
     "metadata": {},
     "output_type": "execute_result"
    }
   ],
   "source": [
    "nasdaq_return_year['Returns'] = nasdaq_return_year.pct_change()\n",
    "nasdaq_return_year.head()"
   ]
  },
  {
   "cell_type": "code",
   "execution_count": 18,
   "metadata": {},
   "outputs": [],
   "source": [
    "nas_return_zscore = pd.merge(nasdaq_return_year[['Returns']], nas_data_per_year[['zscore']], left_index=True, right_index=True, how='left')\n"
   ]
  },
  {
   "cell_type": "code",
   "execution_count": 19,
   "metadata": {},
   "outputs": [
    {
     "data": {
      "text/html": [
       "<div>\n",
       "<style scoped>\n",
       "    .dataframe tbody tr th:only-of-type {\n",
       "        vertical-align: middle;\n",
       "    }\n",
       "\n",
       "    .dataframe tbody tr th {\n",
       "        vertical-align: top;\n",
       "    }\n",
       "\n",
       "    .dataframe thead th {\n",
       "        text-align: right;\n",
       "    }\n",
       "</style>\n",
       "<table border=\"1\" class=\"dataframe\">\n",
       "  <thead>\n",
       "    <tr style=\"text-align: right;\">\n",
       "      <th></th>\n",
       "      <th>Returns</th>\n",
       "      <th>zscore</th>\n",
       "    </tr>\n",
       "    <tr>\n",
       "      <th>year</th>\n",
       "      <th></th>\n",
       "      <th></th>\n",
       "    </tr>\n",
       "  </thead>\n",
       "  <tbody>\n",
       "    <tr>\n",
       "      <th>1999</th>\n",
       "      <td>NaN</td>\n",
       "      <td>-0.450912</td>\n",
       "    </tr>\n",
       "    <tr>\n",
       "      <th>2000</th>\n",
       "      <td>0.455953</td>\n",
       "      <td>-0.540472</td>\n",
       "    </tr>\n",
       "    <tr>\n",
       "      <th>2001</th>\n",
       "      <td>-0.470701</td>\n",
       "      <td>-0.481694</td>\n",
       "    </tr>\n",
       "    <tr>\n",
       "      <th>2002</th>\n",
       "      <td>-0.231170</td>\n",
       "      <td>-0.482326</td>\n",
       "    </tr>\n",
       "    <tr>\n",
       "      <th>2003</th>\n",
       "      <td>0.069775</td>\n",
       "      <td>0.183499</td>\n",
       "    </tr>\n",
       "  </tbody>\n",
       "</table>\n",
       "</div>"
      ],
      "text/plain": [
       "       Returns    zscore\n",
       "year                    \n",
       "1999       NaN -0.450912\n",
       "2000  0.455953 -0.540472\n",
       "2001 -0.470701 -0.481694\n",
       "2002 -0.231170 -0.482326\n",
       "2003  0.069775  0.183499"
      ]
     },
     "execution_count": 19,
     "metadata": {},
     "output_type": "execute_result"
    }
   ],
   "source": [
    "nas_return_zscore .head()"
   ]
  },
  {
   "cell_type": "code",
   "execution_count": 20,
   "metadata": {},
   "outputs": [
    {
     "data": {
      "text/html": [
       "<div>\n",
       "<style scoped>\n",
       "    .dataframe tbody tr th:only-of-type {\n",
       "        vertical-align: middle;\n",
       "    }\n",
       "\n",
       "    .dataframe tbody tr th {\n",
       "        vertical-align: top;\n",
       "    }\n",
       "\n",
       "    .dataframe thead th {\n",
       "        text-align: right;\n",
       "    }\n",
       "</style>\n",
       "<table border=\"1\" class=\"dataframe\">\n",
       "  <thead>\n",
       "    <tr style=\"text-align: right;\">\n",
       "      <th></th>\n",
       "      <th>Returns</th>\n",
       "      <th>zscore</th>\n",
       "    </tr>\n",
       "    <tr>\n",
       "      <th>year</th>\n",
       "      <th></th>\n",
       "      <th></th>\n",
       "    </tr>\n",
       "  </thead>\n",
       "  <tbody>\n",
       "    <tr>\n",
       "      <th>1999</th>\n",
       "      <td>0.000000</td>\n",
       "      <td>-0.450912</td>\n",
       "    </tr>\n",
       "    <tr>\n",
       "      <th>2000</th>\n",
       "      <td>0.455953</td>\n",
       "      <td>-0.540472</td>\n",
       "    </tr>\n",
       "    <tr>\n",
       "      <th>2001</th>\n",
       "      <td>-0.470701</td>\n",
       "      <td>-0.481694</td>\n",
       "    </tr>\n",
       "    <tr>\n",
       "      <th>2002</th>\n",
       "      <td>-0.231170</td>\n",
       "      <td>-0.482326</td>\n",
       "    </tr>\n",
       "    <tr>\n",
       "      <th>2003</th>\n",
       "      <td>0.069775</td>\n",
       "      <td>0.183499</td>\n",
       "    </tr>\n",
       "  </tbody>\n",
       "</table>\n",
       "</div>"
      ],
      "text/plain": [
       "       Returns    zscore\n",
       "year                    \n",
       "1999  0.000000 -0.450912\n",
       "2000  0.455953 -0.540472\n",
       "2001 -0.470701 -0.481694\n",
       "2002 -0.231170 -0.482326\n",
       "2003  0.069775  0.183499"
      ]
     },
     "execution_count": 20,
     "metadata": {},
     "output_type": "execute_result"
    }
   ],
   "source": [
    "nas_return_zscore.fillna(0, inplace=True)\n",
    "nas_return_zscore .head()"
   ]
  },
  {
   "cell_type": "code",
   "execution_count": 25,
   "metadata": {},
   "outputs": [
    {
     "data": {
      "text/plain": [
       "<matplotlib.axes._subplots.AxesSubplot at 0x1e6acdcc888>"
      ]
     },
     "execution_count": 25,
     "metadata": {},
     "output_type": "execute_result"
    },
    {
     "data": {
      "image/png": "[encoded data removed]",
      "text/plain": [
       "<Figure size 432x288 with 1 Axes>"
      ]
     },
     "metadata": {
      "needs_background": "light"
     },
     "output_type": "display_data"
    }
   ],
   "source": [
    "nas_return_zscore = nas_return_zscore[(nas_return_zscore['zscore'] > 0.01) | \n",
    "                                 (nas_return_zscore['zscore'] < -0.01)]\n",
    "nas_return_zscore.plot(x=\"zscore\", y=\"Returns\", style=\"o\")"
   ]
  },
  {
   "cell_type": "code",
   "execution_count": 26,
   "metadata": {},
   "outputs": [
    {
     "data": {
      "text/plain": [
       "0.2613625562239449"
      ]
     },
     "execution_count": 26,
     "metadata": {},
     "output_type": "execute_result"
    }
   ],
   "source": [
    "nas_return_zscore['Returns'].corr(nas_return_zscore['zscore'])\n"
   ]
  },
  {
   "cell_type": "code",
   "execution_count": null,
   "metadata": {},
   "outputs": [],
   "source": []
  }
 ],
 "metadata": {
  "kernelspec": {
   "display_name": "Python 3.7.7 64-bit ('pyvizenv': conda)",
   "language": "python",
   "name": "python37764bitpyvizenvconda021c88114fbb44a5adffe67e9bed23ba"
  },
  "language_info": {
   "codemirror_mode": {
    "name": "ipython",
    "version": 3
   },
   "file_extension": ".py",
   "mimetype": "text/x-python",
   "name": "python",
   "nbconvert_exporter": "python",
   "pygments_lexer": "ipython3",
   "version": "3.7.7"
  }
 },
 "nbformat": 4,
 "nbformat_minor": 4
}
