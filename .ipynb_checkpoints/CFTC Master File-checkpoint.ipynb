{
 "cells": [
  {
   "cell_type": "code",
   "execution_count": 1,
   "metadata": {},
   "outputs": [],
   "source": [
    "# Import libraries and dependencies\n",
    "import numpy as np\n",
    "import pandas as pd\n",
    "import yfinance as yf\n",
    "import matplotlib.pyplot as plt\n",
    "import datetime\n",
    "import os\n",
    "import quandl as ql\n",
    "\n",
    "\n",
    "%matplotlib inline"
   ]
  },
  {
   "cell_type": "code",
   "execution_count": 2,
   "metadata": {},
   "outputs": [
    {
     "data": {
      "text/plain": [
       "True"
      ]
     },
     "execution_count": 2,
     "metadata": {},
     "output_type": "execute_result"
    }
   ],
   "source": [
    "from dotenv import load_dotenv\n",
    "load_dotenv()"
   ]
  },
  {
   "cell_type": "code",
   "execution_count": 3,
   "metadata": {},
   "outputs": [],
   "source": [
    "QUANDL_KEY = os.getenv(\"QUANDL_KEY\")"
   ]
  },
  {
   "cell_type": "code",
   "execution_count": 4,
   "metadata": {},
   "outputs": [],
   "source": [
    "ql.ApiConfig.api_key = QUANDL_KEY"
   ]
  },
  {
   "cell_type": "code",
   "execution_count": 44,
   "metadata": {},
   "outputs": [],
   "source": [
    "def cleanData(df, asset_class, security):\n",
    "    cleaned_df = df[['Noncommercial Long', 'Noncommercial Short']]\n",
    "    cleaned_df['Net_Noncommercial_Positions'] = cleaned_df['Noncommercial Long'] - cleaned_df['Noncommercial Short']\n",
    "    cleaned_df['Asset_Class'] = asset_class\n",
    "    cleaned_df['Security'] = security\n",
    "    return cleaned_df[['Asset_Class','Security','Net_Noncommercial_Positions']]\n"
   ]
  },
  {
   "cell_type": "code",
   "execution_count": 45,
   "metadata": {},
   "outputs": [],
   "source": [
    "def get_stats(df, window):\n",
    "    roling_df = df.rolling(window=window)\n",
    "    mean = roling_df.mean().shift(1)\n",
    "    std = roling_df.std(ddof=0).shift(1)\n",
    "    z_score = (df-mean)/std\n",
    "    return mean, std, z_score"
   ]
  },
  {
   "cell_type": "code",
   "execution_count": 46,
   "metadata": {},
   "outputs": [],
   "source": [
    "def get_stats_multi_interval(df, windows):\n",
    "    df_temp = pd.DataFrame()\n",
    "    for window in windows: \n",
    "        roling_df = df.rolling(window=window)\n",
    "        mean = roling_df.mean().shift(1)\n",
    "        std = roling_df.std(ddof=0).shift(1)\n",
    "        z_score = (df-mean)/std\n",
    "        df_temp[f\"z_score_{window//52} years\"] = z_score\n",
    "    return df_temp"
   ]
  },
  {
   "cell_type": "code",
   "execution_count": 47,
   "metadata": {},
   "outputs": [],
   "source": [
    "def get_historical_stats(df):\n",
    "    Average = df['Net_Noncommercial_Positions'].mean()\n",
    "    x = np.array(df['Net_Noncommercial_Positions'])\n",
    "    std_historical = x.std()\n",
    "\n",
    "    z_score_historical = ((df['Net_Noncommercial_Positions'][-1]) - Average)/std_historical\n",
    "    return Average, std_historical, z_score_historical"
   ]
  },
  {
   "cell_type": "code",
   "execution_count": 48,
   "metadata": {},
   "outputs": [],
   "source": [
    "def createSummaryDF(df, interval):\n",
    "    #df = df.reset_index()\n",
    "    summary_df = pd.DataFrame()\n",
    "    for i in range(len(df.index)):\n",
    "        if i > interval and i % interval == 0:\n",
    "            summary_df = summary_df.append(df.iloc[i])\n",
    "    return summary_df"
   ]
  },
  {
   "cell_type": "markdown",
   "metadata": {},
   "source": [
    "# EUR Analysis"
   ]
  },
  {
   "cell_type": "code",
   "execution_count": 49,
   "metadata": {},
   "outputs": [
    {
     "name": "stderr",
     "output_type": "stream",
     "text": [
      "C:\\Users\\savag\\anaconda3\\envs\\yfinanceenv\\lib\\site-packages\\ipykernel_launcher.py:3: SettingWithCopyWarning: \n",
      "A value is trying to be set on a copy of a slice from a DataFrame.\n",
      "Try using .loc[row_indexer,col_indexer] = value instead\n",
      "\n",
      "See the caveats in the documentation: https://pandas.pydata.org/pandas-docs/stable/user_guide/indexing.html#returning-a-view-versus-a-copy\n",
      "  This is separate from the ipykernel package so we can avoid doing imports until\n",
      "C:\\Users\\savag\\anaconda3\\envs\\yfinanceenv\\lib\\site-packages\\ipykernel_launcher.py:4: SettingWithCopyWarning: \n",
      "A value is trying to be set on a copy of a slice from a DataFrame.\n",
      "Try using .loc[row_indexer,col_indexer] = value instead\n",
      "\n",
      "See the caveats in the documentation: https://pandas.pydata.org/pandas-docs/stable/user_guide/indexing.html#returning-a-view-versus-a-copy\n",
      "  after removing the cwd from sys.path.\n",
      "C:\\Users\\savag\\anaconda3\\envs\\yfinanceenv\\lib\\site-packages\\ipykernel_launcher.py:5: SettingWithCopyWarning: \n",
      "A value is trying to be set on a copy of a slice from a DataFrame.\n",
      "Try using .loc[row_indexer,col_indexer] = value instead\n",
      "\n",
      "See the caveats in the documentation: https://pandas.pydata.org/pandas-docs/stable/user_guide/indexing.html#returning-a-view-versus-a-copy\n",
      "  \"\"\"\n"
     ]
    }
   ],
   "source": [
    "data = ql.get('CFTC/099741_FO_L_ALL')\n",
    "interval = 52*3\n",
    "data_cleaned = cleanData(data, \"Currency\", 'EURO')\n",
    "stats_df = get_stats_multi_interval(data_cleaned.loc[:,'Net_Noncommercial_Positions'],[52,52*3,52*5,52*10])\n",
    "df_concate = pd.concat([data_cleaned,stats_df], join='inner', axis=1)\n",
    "summary_df = df_concate.last('1d')\n",
    "eur_data = summary_df"
   ]
  },
  {
   "cell_type": "markdown",
   "metadata": {},
   "source": [
    "# USD Analysis"
   ]
  },
  {
   "cell_type": "code",
   "execution_count": 50,
   "metadata": {},
   "outputs": [
    {
     "name": "stderr",
     "output_type": "stream",
     "text": [
      "C:\\Users\\savag\\anaconda3\\envs\\yfinanceenv\\lib\\site-packages\\ipykernel_launcher.py:3: SettingWithCopyWarning: \n",
      "A value is trying to be set on a copy of a slice from a DataFrame.\n",
      "Try using .loc[row_indexer,col_indexer] = value instead\n",
      "\n",
      "See the caveats in the documentation: https://pandas.pydata.org/pandas-docs/stable/user_guide/indexing.html#returning-a-view-versus-a-copy\n",
      "  This is separate from the ipykernel package so we can avoid doing imports until\n",
      "C:\\Users\\savag\\anaconda3\\envs\\yfinanceenv\\lib\\site-packages\\ipykernel_launcher.py:4: SettingWithCopyWarning: \n",
      "A value is trying to be set on a copy of a slice from a DataFrame.\n",
      "Try using .loc[row_indexer,col_indexer] = value instead\n",
      "\n",
      "See the caveats in the documentation: https://pandas.pydata.org/pandas-docs/stable/user_guide/indexing.html#returning-a-view-versus-a-copy\n",
      "  after removing the cwd from sys.path.\n",
      "C:\\Users\\savag\\anaconda3\\envs\\yfinanceenv\\lib\\site-packages\\ipykernel_launcher.py:5: SettingWithCopyWarning: \n",
      "A value is trying to be set on a copy of a slice from a DataFrame.\n",
      "Try using .loc[row_indexer,col_indexer] = value instead\n",
      "\n",
      "See the caveats in the documentation: https://pandas.pydata.org/pandas-docs/stable/user_guide/indexing.html#returning-a-view-versus-a-copy\n",
      "  \"\"\"\n"
     ]
    }
   ],
   "source": [
    "data = ql.get('CFTC/098662_FO_L_ALL')\n",
    "interval = 52*3\n",
    "data_cleaned = cleanData(data, \"Currency\", 'USD')\n",
    "stats_df = get_stats_multi_interval(data_cleaned.loc[:,'Net_Noncommercial_Positions'],[52,52*3,52*5,52*10])\n",
    "df_concate = pd.concat([data_cleaned,stats_df], join='inner', axis=1)\n",
    "summary_df = df_concate.last('1d')\n",
    "usd_data = summary_df"
   ]
  },
  {
   "cell_type": "markdown",
   "metadata": {},
   "source": [
    "# CAD Analysis"
   ]
  },
  {
   "cell_type": "code",
   "execution_count": 51,
   "metadata": {},
   "outputs": [
    {
     "name": "stderr",
     "output_type": "stream",
     "text": [
      "C:\\Users\\savag\\anaconda3\\envs\\yfinanceenv\\lib\\site-packages\\ipykernel_launcher.py:3: SettingWithCopyWarning: \n",
      "A value is trying to be set on a copy of a slice from a DataFrame.\n",
      "Try using .loc[row_indexer,col_indexer] = value instead\n",
      "\n",
      "See the caveats in the documentation: https://pandas.pydata.org/pandas-docs/stable/user_guide/indexing.html#returning-a-view-versus-a-copy\n",
      "  This is separate from the ipykernel package so we can avoid doing imports until\n",
      "C:\\Users\\savag\\anaconda3\\envs\\yfinanceenv\\lib\\site-packages\\ipykernel_launcher.py:4: SettingWithCopyWarning: \n",
      "A value is trying to be set on a copy of a slice from a DataFrame.\n",
      "Try using .loc[row_indexer,col_indexer] = value instead\n",
      "\n",
      "See the caveats in the documentation: https://pandas.pydata.org/pandas-docs/stable/user_guide/indexing.html#returning-a-view-versus-a-copy\n",
      "  after removing the cwd from sys.path.\n",
      "C:\\Users\\savag\\anaconda3\\envs\\yfinanceenv\\lib\\site-packages\\ipykernel_launcher.py:5: SettingWithCopyWarning: \n",
      "A value is trying to be set on a copy of a slice from a DataFrame.\n",
      "Try using .loc[row_indexer,col_indexer] = value instead\n",
      "\n",
      "See the caveats in the documentation: https://pandas.pydata.org/pandas-docs/stable/user_guide/indexing.html#returning-a-view-versus-a-copy\n",
      "  \"\"\"\n"
     ]
    }
   ],
   "source": [
    "data = ql.get('CFTC/090741_FO_L_ALL')\n",
    "interval = 52*3\n",
    "data_cleaned = cleanData(data, \"Currency\", 'CAD')\n",
    "stats_df = get_stats_multi_interval(data_cleaned.loc[:,'Net_Noncommercial_Positions'],[52,52*3,52*5,52*10])\n",
    "df_concate = pd.concat([data_cleaned,stats_df], join='inner', axis=1)\n",
    "summary_df = df_concate.last('1d')\n",
    "cad_data = summary_df"
   ]
  },
  {
   "cell_type": "markdown",
   "metadata": {},
   "source": [
    "# AUD Analysis"
   ]
  },
  {
   "cell_type": "code",
   "execution_count": 52,
   "metadata": {},
   "outputs": [
    {
     "name": "stderr",
     "output_type": "stream",
     "text": [
      "C:\\Users\\savag\\anaconda3\\envs\\yfinanceenv\\lib\\site-packages\\ipykernel_launcher.py:3: SettingWithCopyWarning: \n",
      "A value is trying to be set on a copy of a slice from a DataFrame.\n",
      "Try using .loc[row_indexer,col_indexer] = value instead\n",
      "\n",
      "See the caveats in the documentation: https://pandas.pydata.org/pandas-docs/stable/user_guide/indexing.html#returning-a-view-versus-a-copy\n",
      "  This is separate from the ipykernel package so we can avoid doing imports until\n",
      "C:\\Users\\savag\\anaconda3\\envs\\yfinanceenv\\lib\\site-packages\\ipykernel_launcher.py:4: SettingWithCopyWarning: \n",
      "A value is trying to be set on a copy of a slice from a DataFrame.\n",
      "Try using .loc[row_indexer,col_indexer] = value instead\n",
      "\n",
      "See the caveats in the documentation: https://pandas.pydata.org/pandas-docs/stable/user_guide/indexing.html#returning-a-view-versus-a-copy\n",
      "  after removing the cwd from sys.path.\n",
      "C:\\Users\\savag\\anaconda3\\envs\\yfinanceenv\\lib\\site-packages\\ipykernel_launcher.py:5: SettingWithCopyWarning: \n",
      "A value is trying to be set on a copy of a slice from a DataFrame.\n",
      "Try using .loc[row_indexer,col_indexer] = value instead\n",
      "\n",
      "See the caveats in the documentation: https://pandas.pydata.org/pandas-docs/stable/user_guide/indexing.html#returning-a-view-versus-a-copy\n",
      "  \"\"\"\n"
     ]
    }
   ],
   "source": [
    "data = ql.get('CFTC/232741_FO_L_ALL')\n",
    "interval = 52*3\n",
    "data_cleaned = cleanData(data, \"Currency\", 'AUD')\n",
    "stats_df = get_stats_multi_interval(data_cleaned.loc[:,'Net_Noncommercial_Positions'],[52,52*3,52*5,52*10])\n",
    "df_concate = pd.concat([data_cleaned,stats_df], join='inner', axis=1)\n",
    "summary_df = df_concate.last('1d')\n",
    "aud_data = summary_df"
   ]
  },
  {
   "cell_type": "markdown",
   "metadata": {},
   "source": [
    "# Gold Analysis"
   ]
  },
  {
   "cell_type": "code",
   "execution_count": 53,
   "metadata": {},
   "outputs": [
    {
     "name": "stderr",
     "output_type": "stream",
     "text": [
      "C:\\Users\\savag\\anaconda3\\envs\\yfinanceenv\\lib\\site-packages\\ipykernel_launcher.py:3: SettingWithCopyWarning: \n",
      "A value is trying to be set on a copy of a slice from a DataFrame.\n",
      "Try using .loc[row_indexer,col_indexer] = value instead\n",
      "\n",
      "See the caveats in the documentation: https://pandas.pydata.org/pandas-docs/stable/user_guide/indexing.html#returning-a-view-versus-a-copy\n",
      "  This is separate from the ipykernel package so we can avoid doing imports until\n",
      "C:\\Users\\savag\\anaconda3\\envs\\yfinanceenv\\lib\\site-packages\\ipykernel_launcher.py:4: SettingWithCopyWarning: \n",
      "A value is trying to be set on a copy of a slice from a DataFrame.\n",
      "Try using .loc[row_indexer,col_indexer] = value instead\n",
      "\n",
      "See the caveats in the documentation: https://pandas.pydata.org/pandas-docs/stable/user_guide/indexing.html#returning-a-view-versus-a-copy\n",
      "  after removing the cwd from sys.path.\n",
      "C:\\Users\\savag\\anaconda3\\envs\\yfinanceenv\\lib\\site-packages\\ipykernel_launcher.py:5: SettingWithCopyWarning: \n",
      "A value is trying to be set on a copy of a slice from a DataFrame.\n",
      "Try using .loc[row_indexer,col_indexer] = value instead\n",
      "\n",
      "See the caveats in the documentation: https://pandas.pydata.org/pandas-docs/stable/user_guide/indexing.html#returning-a-view-versus-a-copy\n",
      "  \"\"\"\n"
     ]
    }
   ],
   "source": [
    "data = ql.get('CFTC/088691_FO_L_ALL')\n",
    "interval = 52*3\n",
    "data_cleaned = cleanData(data, \"Commodity\", 'Gold')\n",
    "stats_df = get_stats_multi_interval(data_cleaned.loc[:,'Net_Noncommercial_Positions'],[52,52*3,52*5,52*10])\n",
    "df_concate = pd.concat([data_cleaned,stats_df], join='inner', axis=1)\n",
    "summary_df = df_concate.last('1d')\n",
    "gold_data = summary_df"
   ]
  },
  {
   "cell_type": "markdown",
   "metadata": {},
   "source": [
    "# Silver Analysis"
   ]
  },
  {
   "cell_type": "code",
   "execution_count": 54,
   "metadata": {},
   "outputs": [
    {
     "name": "stderr",
     "output_type": "stream",
     "text": [
      "C:\\Users\\savag\\anaconda3\\envs\\yfinanceenv\\lib\\site-packages\\ipykernel_launcher.py:3: SettingWithCopyWarning: \n",
      "A value is trying to be set on a copy of a slice from a DataFrame.\n",
      "Try using .loc[row_indexer,col_indexer] = value instead\n",
      "\n",
      "See the caveats in the documentation: https://pandas.pydata.org/pandas-docs/stable/user_guide/indexing.html#returning-a-view-versus-a-copy\n",
      "  This is separate from the ipykernel package so we can avoid doing imports until\n",
      "C:\\Users\\savag\\anaconda3\\envs\\yfinanceenv\\lib\\site-packages\\ipykernel_launcher.py:4: SettingWithCopyWarning: \n",
      "A value is trying to be set on a copy of a slice from a DataFrame.\n",
      "Try using .loc[row_indexer,col_indexer] = value instead\n",
      "\n",
      "See the caveats in the documentation: https://pandas.pydata.org/pandas-docs/stable/user_guide/indexing.html#returning-a-view-versus-a-copy\n",
      "  after removing the cwd from sys.path.\n",
      "C:\\Users\\savag\\anaconda3\\envs\\yfinanceenv\\lib\\site-packages\\ipykernel_launcher.py:5: SettingWithCopyWarning: \n",
      "A value is trying to be set on a copy of a slice from a DataFrame.\n",
      "Try using .loc[row_indexer,col_indexer] = value instead\n",
      "\n",
      "See the caveats in the documentation: https://pandas.pydata.org/pandas-docs/stable/user_guide/indexing.html#returning-a-view-versus-a-copy\n",
      "  \"\"\"\n"
     ]
    }
   ],
   "source": [
    "data = ql.get('CFTC/084691_FO_L_ALL')\n",
    "interval = 52*3\n",
    "data_cleaned = cleanData(data, \"Commodity\", 'Silver')\n",
    "stats_df = get_stats_multi_interval(data_cleaned.loc[:,'Net_Noncommercial_Positions'],[52,52*3,52*5,52*10])\n",
    "df_concate = pd.concat([data_cleaned,stats_df], join='inner', axis=1)\n",
    "summary_df = df_concate.last('1d')\n",
    "silver_data = summary_df"
   ]
  },
  {
   "cell_type": "markdown",
   "metadata": {},
   "source": [
    "# Copper Analysis"
   ]
  },
  {
   "cell_type": "code",
   "execution_count": 55,
   "metadata": {},
   "outputs": [
    {
     "name": "stderr",
     "output_type": "stream",
     "text": [
      "C:\\Users\\savag\\anaconda3\\envs\\yfinanceenv\\lib\\site-packages\\ipykernel_launcher.py:3: SettingWithCopyWarning: \n",
      "A value is trying to be set on a copy of a slice from a DataFrame.\n",
      "Try using .loc[row_indexer,col_indexer] = value instead\n",
      "\n",
      "See the caveats in the documentation: https://pandas.pydata.org/pandas-docs/stable/user_guide/indexing.html#returning-a-view-versus-a-copy\n",
      "  This is separate from the ipykernel package so we can avoid doing imports until\n",
      "C:\\Users\\savag\\anaconda3\\envs\\yfinanceenv\\lib\\site-packages\\ipykernel_launcher.py:4: SettingWithCopyWarning: \n",
      "A value is trying to be set on a copy of a slice from a DataFrame.\n",
      "Try using .loc[row_indexer,col_indexer] = value instead\n",
      "\n",
      "See the caveats in the documentation: https://pandas.pydata.org/pandas-docs/stable/user_guide/indexing.html#returning-a-view-versus-a-copy\n",
      "  after removing the cwd from sys.path.\n",
      "C:\\Users\\savag\\anaconda3\\envs\\yfinanceenv\\lib\\site-packages\\ipykernel_launcher.py:5: SettingWithCopyWarning: \n",
      "A value is trying to be set on a copy of a slice from a DataFrame.\n",
      "Try using .loc[row_indexer,col_indexer] = value instead\n",
      "\n",
      "See the caveats in the documentation: https://pandas.pydata.org/pandas-docs/stable/user_guide/indexing.html#returning-a-view-versus-a-copy\n",
      "  \"\"\"\n"
     ]
    }
   ],
   "source": [
    "data = ql.get('CFTC/085692_FO_L_ALL')\n",
    "interval = 52*3\n",
    "data_cleaned = cleanData(data, \"Commodity\", 'Copper')\n",
    "stats_df = get_stats_multi_interval(data_cleaned.loc[:,'Net_Noncommercial_Positions'],[52,52*3,52*5,52*10])\n",
    "df_concate = pd.concat([data_cleaned,stats_df], join='inner', axis=1)\n",
    "summary_df = df_concate.last('1d')\n",
    "copper_data = summary_df"
   ]
  },
  {
   "cell_type": "markdown",
   "metadata": {},
   "source": [
    "# NASDAQ Analysis"
   ]
  },
  {
   "cell_type": "code",
   "execution_count": 56,
   "metadata": {},
   "outputs": [
    {
     "name": "stderr",
     "output_type": "stream",
     "text": [
      "C:\\Users\\savag\\anaconda3\\envs\\yfinanceenv\\lib\\site-packages\\ipykernel_launcher.py:3: SettingWithCopyWarning: \n",
      "A value is trying to be set on a copy of a slice from a DataFrame.\n",
      "Try using .loc[row_indexer,col_indexer] = value instead\n",
      "\n",
      "See the caveats in the documentation: https://pandas.pydata.org/pandas-docs/stable/user_guide/indexing.html#returning-a-view-versus-a-copy\n",
      "  This is separate from the ipykernel package so we can avoid doing imports until\n",
      "C:\\Users\\savag\\anaconda3\\envs\\yfinanceenv\\lib\\site-packages\\ipykernel_launcher.py:4: SettingWithCopyWarning: \n",
      "A value is trying to be set on a copy of a slice from a DataFrame.\n",
      "Try using .loc[row_indexer,col_indexer] = value instead\n",
      "\n",
      "See the caveats in the documentation: https://pandas.pydata.org/pandas-docs/stable/user_guide/indexing.html#returning-a-view-versus-a-copy\n",
      "  after removing the cwd from sys.path.\n",
      "C:\\Users\\savag\\anaconda3\\envs\\yfinanceenv\\lib\\site-packages\\ipykernel_launcher.py:5: SettingWithCopyWarning: \n",
      "A value is trying to be set on a copy of a slice from a DataFrame.\n",
      "Try using .loc[row_indexer,col_indexer] = value instead\n",
      "\n",
      "See the caveats in the documentation: https://pandas.pydata.org/pandas-docs/stable/user_guide/indexing.html#returning-a-view-versus-a-copy\n",
      "  \"\"\"\n"
     ]
    }
   ],
   "source": [
    "data = ql.get('CFTC/209742_FO_L_ALL')\n",
    "interval = 52*3\n",
    "data_cleaned = cleanData(data, \"Equities\", 'NASDAQ')\n",
    "stats_df = get_stats_multi_interval(data_cleaned.loc[:,'Net_Noncommercial_Positions'],[52,52*3,52*5,52*10])\n",
    "df_concate = pd.concat([data_cleaned,stats_df], join='inner', axis=1)\n",
    "summary_df = df_concate.last('1d')\n",
    "nasdaq_data = summary_df"
   ]
  },
  {
   "cell_type": "markdown",
   "metadata": {},
   "source": [
    "# S&P500 Analysis"
   ]
  },
  {
   "cell_type": "code",
   "execution_count": 57,
   "metadata": {},
   "outputs": [
    {
     "name": "stderr",
     "output_type": "stream",
     "text": [
      "C:\\Users\\savag\\anaconda3\\envs\\yfinanceenv\\lib\\site-packages\\ipykernel_launcher.py:3: SettingWithCopyWarning: \n",
      "A value is trying to be set on a copy of a slice from a DataFrame.\n",
      "Try using .loc[row_indexer,col_indexer] = value instead\n",
      "\n",
      "See the caveats in the documentation: https://pandas.pydata.org/pandas-docs/stable/user_guide/indexing.html#returning-a-view-versus-a-copy\n",
      "  This is separate from the ipykernel package so we can avoid doing imports until\n",
      "C:\\Users\\savag\\anaconda3\\envs\\yfinanceenv\\lib\\site-packages\\ipykernel_launcher.py:4: SettingWithCopyWarning: \n",
      "A value is trying to be set on a copy of a slice from a DataFrame.\n",
      "Try using .loc[row_indexer,col_indexer] = value instead\n",
      "\n",
      "See the caveats in the documentation: https://pandas.pydata.org/pandas-docs/stable/user_guide/indexing.html#returning-a-view-versus-a-copy\n",
      "  after removing the cwd from sys.path.\n",
      "C:\\Users\\savag\\anaconda3\\envs\\yfinanceenv\\lib\\site-packages\\ipykernel_launcher.py:5: SettingWithCopyWarning: \n",
      "A value is trying to be set on a copy of a slice from a DataFrame.\n",
      "Try using .loc[row_indexer,col_indexer] = value instead\n",
      "\n",
      "See the caveats in the documentation: https://pandas.pydata.org/pandas-docs/stable/user_guide/indexing.html#returning-a-view-versus-a-copy\n",
      "  \"\"\"\n"
     ]
    }
   ],
   "source": [
    "data = ql.get('CFTC/138741_FO_L_ALL')\n",
    "interval = 52*3\n",
    "data_cleaned = cleanData(data, \"Equities\", 'S&P500')\n",
    "stats_df = get_stats_multi_interval(data_cleaned.loc[:,'Net_Noncommercial_Positions'],[52,52*3,52*5,52*10])\n",
    "df_concate = pd.concat([data_cleaned,stats_df], join='inner', axis=1)\n",
    "summary_df = df_concate.last('1d')\n",
    "sp500_data = summary_df"
   ]
  },
  {
   "cell_type": "markdown",
   "metadata": {},
   "source": [
    "# 10 Year US Treasury Bond Analysis"
   ]
  },
  {
   "cell_type": "code",
   "execution_count": 58,
   "metadata": {},
   "outputs": [
    {
     "name": "stderr",
     "output_type": "stream",
     "text": [
      "C:\\Users\\savag\\anaconda3\\envs\\yfinanceenv\\lib\\site-packages\\ipykernel_launcher.py:3: SettingWithCopyWarning: \n",
      "A value is trying to be set on a copy of a slice from a DataFrame.\n",
      "Try using .loc[row_indexer,col_indexer] = value instead\n",
      "\n",
      "See the caveats in the documentation: https://pandas.pydata.org/pandas-docs/stable/user_guide/indexing.html#returning-a-view-versus-a-copy\n",
      "  This is separate from the ipykernel package so we can avoid doing imports until\n",
      "C:\\Users\\savag\\anaconda3\\envs\\yfinanceenv\\lib\\site-packages\\ipykernel_launcher.py:4: SettingWithCopyWarning: \n",
      "A value is trying to be set on a copy of a slice from a DataFrame.\n",
      "Try using .loc[row_indexer,col_indexer] = value instead\n",
      "\n",
      "See the caveats in the documentation: https://pandas.pydata.org/pandas-docs/stable/user_guide/indexing.html#returning-a-view-versus-a-copy\n",
      "  after removing the cwd from sys.path.\n",
      "C:\\Users\\savag\\anaconda3\\envs\\yfinanceenv\\lib\\site-packages\\ipykernel_launcher.py:5: SettingWithCopyWarning: \n",
      "A value is trying to be set on a copy of a slice from a DataFrame.\n",
      "Try using .loc[row_indexer,col_indexer] = value instead\n",
      "\n",
      "See the caveats in the documentation: https://pandas.pydata.org/pandas-docs/stable/user_guide/indexing.html#returning-a-view-versus-a-copy\n",
      "  \"\"\"\n"
     ]
    }
   ],
   "source": [
    "data = ql.get('CFTC/043602_FO_L_ALL')\n",
    "interval = 52*3\n",
    "data_cleaned = cleanData(data, \"Fixed Income\", '10 yr US Treasury')\n",
    "stats_df = get_stats_multi_interval(data_cleaned.loc[:,'Net_Noncommercial_Positions'],[52,52*3,52*5,52*10])\n",
    "df_concate = pd.concat([data_cleaned,stats_df], join='inner', axis=1)\n",
    "summary_df = df_concate.last('1d')\n",
    "UST_10_data = summary_df"
   ]
  },
  {
   "cell_type": "markdown",
   "metadata": {},
   "source": [
    "# Bitcoin Analysis"
   ]
  },
  {
   "cell_type": "code",
   "execution_count": 59,
   "metadata": {},
   "outputs": [
    {
     "name": "stderr",
     "output_type": "stream",
     "text": [
      "C:\\Users\\savag\\anaconda3\\envs\\yfinanceenv\\lib\\site-packages\\ipykernel_launcher.py:3: SettingWithCopyWarning: \n",
      "A value is trying to be set on a copy of a slice from a DataFrame.\n",
      "Try using .loc[row_indexer,col_indexer] = value instead\n",
      "\n",
      "See the caveats in the documentation: https://pandas.pydata.org/pandas-docs/stable/user_guide/indexing.html#returning-a-view-versus-a-copy\n",
      "  This is separate from the ipykernel package so we can avoid doing imports until\n",
      "C:\\Users\\savag\\anaconda3\\envs\\yfinanceenv\\lib\\site-packages\\ipykernel_launcher.py:4: SettingWithCopyWarning: \n",
      "A value is trying to be set on a copy of a slice from a DataFrame.\n",
      "Try using .loc[row_indexer,col_indexer] = value instead\n",
      "\n",
      "See the caveats in the documentation: https://pandas.pydata.org/pandas-docs/stable/user_guide/indexing.html#returning-a-view-versus-a-copy\n",
      "  after removing the cwd from sys.path.\n",
      "C:\\Users\\savag\\anaconda3\\envs\\yfinanceenv\\lib\\site-packages\\ipykernel_launcher.py:5: SettingWithCopyWarning: \n",
      "A value is trying to be set on a copy of a slice from a DataFrame.\n",
      "Try using .loc[row_indexer,col_indexer] = value instead\n",
      "\n",
      "See the caveats in the documentation: https://pandas.pydata.org/pandas-docs/stable/user_guide/indexing.html#returning-a-view-versus-a-copy\n",
      "  \"\"\"\n"
     ]
    }
   ],
   "source": [
    "data = ql.get('CFTC/133741_FO_L_ALL')\n",
    "interval = 52*3\n",
    "data_cleaned = cleanData(data, \"Currency\", 'Bitcoin')\n",
    "stats_df = get_stats_multi_interval(data_cleaned.loc[:,'Net_Noncommercial_Positions'],[52,52*3,52*5,52*10])\n",
    "df_concate = pd.concat([data_cleaned,stats_df], join='inner', axis=1)\n",
    "summary_df = df_concate.last('1d')\n",
    "bitcoin_data = summary_df"
   ]
  },
  {
   "cell_type": "code",
   "execution_count": 60,
   "metadata": {},
   "outputs": [
    {
     "data": {
      "text/html": [
       "<div>\n",
       "<style scoped>\n",
       "    .dataframe tbody tr th:only-of-type {\n",
       "        vertical-align: middle;\n",
       "    }\n",
       "\n",
       "    .dataframe tbody tr th {\n",
       "        vertical-align: top;\n",
       "    }\n",
       "\n",
       "    .dataframe thead th {\n",
       "        text-align: right;\n",
       "    }\n",
       "</style>\n",
       "<table border=\"1\" class=\"dataframe\">\n",
       "  <thead>\n",
       "    <tr style=\"text-align: right;\">\n",
       "      <th></th>\n",
       "      <th>Date</th>\n",
       "      <th>Asset_Class</th>\n",
       "      <th>Security</th>\n",
       "      <th>Net_Noncommercial_Positions</th>\n",
       "      <th>z_score_1 years</th>\n",
       "      <th>z_score_3 years</th>\n",
       "      <th>z_score_5 years</th>\n",
       "      <th>z_score_10 years</th>\n",
       "    </tr>\n",
       "  </thead>\n",
       "  <tbody>\n",
       "    <tr>\n",
       "      <th>0</th>\n",
       "      <td>2020-07-21</td>\n",
       "      <td>Currency</td>\n",
       "      <td>EURO</td>\n",
       "      <td>129685.0</td>\n",
       "      <td>1.926317</td>\n",
       "      <td>1.445066</td>\n",
       "      <td>1.795246</td>\n",
       "      <td>1.992062</td>\n",
       "    </tr>\n",
       "    <tr>\n",
       "      <th>1</th>\n",
       "      <td>2020-07-21</td>\n",
       "      <td>Currency</td>\n",
       "      <td>USD</td>\n",
       "      <td>-5774.0</td>\n",
       "      <td>-2.067785</td>\n",
       "      <td>-1.464556</td>\n",
       "      <td>-1.628694</td>\n",
       "      <td>-1.373964</td>\n",
       "    </tr>\n",
       "    <tr>\n",
       "      <th>2</th>\n",
       "      <td>2020-07-21</td>\n",
       "      <td>Currency</td>\n",
       "      <td>CAD</td>\n",
       "      <td>-16887.0</td>\n",
       "      <td>-0.835768</td>\n",
       "      <td>-0.418938</td>\n",
       "      <td>-0.192104</td>\n",
       "      <td>-0.341249</td>\n",
       "    </tr>\n",
       "    <tr>\n",
       "      <th>3</th>\n",
       "      <td>2020-07-21</td>\n",
       "      <td>Currency</td>\n",
       "      <td>AUD</td>\n",
       "      <td>-393.0</td>\n",
       "      <td>2.432393</td>\n",
       "      <td>0.621150</td>\n",
       "      <td>0.301909</td>\n",
       "      <td>-0.058012</td>\n",
       "    </tr>\n",
       "    <tr>\n",
       "      <th>4</th>\n",
       "      <td>2020-07-21</td>\n",
       "      <td>Currency</td>\n",
       "      <td>Bitcoin</td>\n",
       "      <td>-1711.0</td>\n",
       "      <td>-1.037479</td>\n",
       "      <td>NaN</td>\n",
       "      <td>NaN</td>\n",
       "      <td>NaN</td>\n",
       "    </tr>\n",
       "    <tr>\n",
       "      <th>5</th>\n",
       "      <td>2020-07-21</td>\n",
       "      <td>Commodity</td>\n",
       "      <td>Gold</td>\n",
       "      <td>298715.0</td>\n",
       "      <td>-0.204250</td>\n",
       "      <td>0.996012</td>\n",
       "      <td>1.143645</td>\n",
       "      <td>1.529528</td>\n",
       "    </tr>\n",
       "    <tr>\n",
       "      <th>6</th>\n",
       "      <td>2020-07-21</td>\n",
       "      <td>Commodity</td>\n",
       "      <td>Silver</td>\n",
       "      <td>47134.0</td>\n",
       "      <td>-0.133112</td>\n",
       "      <td>0.645525</td>\n",
       "      <td>0.205783</td>\n",
       "      <td>0.574733</td>\n",
       "    </tr>\n",
       "    <tr>\n",
       "      <th>7</th>\n",
       "      <td>2020-07-21</td>\n",
       "      <td>Commodity</td>\n",
       "      <td>Copper</td>\n",
       "      <td>38426.0</td>\n",
       "      <td>2.694369</td>\n",
       "      <td>1.089320</td>\n",
       "      <td>1.194951</td>\n",
       "      <td>1.548301</td>\n",
       "    </tr>\n",
       "    <tr>\n",
       "      <th>8</th>\n",
       "      <td>2020-07-21</td>\n",
       "      <td>Equities</td>\n",
       "      <td>NASDAQ</td>\n",
       "      <td>17843.0</td>\n",
       "      <td>-0.509683</td>\n",
       "      <td>0.042176</td>\n",
       "      <td>-0.492482</td>\n",
       "      <td>-0.815063</td>\n",
       "    </tr>\n",
       "    <tr>\n",
       "      <th>9</th>\n",
       "      <td>2020-07-21</td>\n",
       "      <td>Equities</td>\n",
       "      <td>S&amp;P500</td>\n",
       "      <td>624.0</td>\n",
       "      <td>-0.484698</td>\n",
       "      <td>-0.187257</td>\n",
       "      <td>-0.064872</td>\n",
       "      <td>-0.055088</td>\n",
       "    </tr>\n",
       "    <tr>\n",
       "      <th>10</th>\n",
       "      <td>2020-07-21</td>\n",
       "      <td>Fixed Income</td>\n",
       "      <td>10 yr US Treasury</td>\n",
       "      <td>87007.0</td>\n",
       "      <td>1.762705</td>\n",
       "      <td>1.275633</td>\n",
       "      <td>0.937512</td>\n",
       "      <td>0.933062</td>\n",
       "    </tr>\n",
       "  </tbody>\n",
       "</table>\n",
       "</div>"
      ],
      "text/plain": [
       "         Date   Asset_Class           Security  Net_Noncommercial_Positions  \\\n",
       "0  2020-07-21      Currency               EURO                     129685.0   \n",
       "1  2020-07-21      Currency                USD                      -5774.0   \n",
       "2  2020-07-21      Currency                CAD                     -16887.0   \n",
       "3  2020-07-21      Currency                AUD                       -393.0   \n",
       "4  2020-07-21      Currency            Bitcoin                      -1711.0   \n",
       "5  2020-07-21     Commodity               Gold                     298715.0   \n",
       "6  2020-07-21     Commodity             Silver                      47134.0   \n",
       "7  2020-07-21     Commodity             Copper                      38426.0   \n",
       "8  2020-07-21      Equities             NASDAQ                      17843.0   \n",
       "9  2020-07-21      Equities             S&P500                        624.0   \n",
       "10 2020-07-21  Fixed Income  10 yr US Treasury                      87007.0   \n",
       "\n",
       "    z_score_1 years  z_score_3 years  z_score_5 years  z_score_10 years  \n",
       "0          1.926317         1.445066         1.795246          1.992062  \n",
       "1         -2.067785        -1.464556        -1.628694         -1.373964  \n",
       "2         -0.835768        -0.418938        -0.192104         -0.341249  \n",
       "3          2.432393         0.621150         0.301909         -0.058012  \n",
       "4         -1.037479              NaN              NaN               NaN  \n",
       "5         -0.204250         0.996012         1.143645          1.529528  \n",
       "6         -0.133112         0.645525         0.205783          0.574733  \n",
       "7          2.694369         1.089320         1.194951          1.548301  \n",
       "8         -0.509683         0.042176        -0.492482         -0.815063  \n",
       "9         -0.484698        -0.187257        -0.064872         -0.055088  \n",
       "10         1.762705         1.275633         0.937512          0.933062  "
      ]
     },
     "execution_count": 60,
     "metadata": {},
     "output_type": "execute_result"
    }
   ],
   "source": [
    "Combined_df = pd.concat([eur_data, \n",
    "                         usd_data, \n",
    "                         cad_data, \n",
    "                         aud_data, \n",
    "                         bitcoin_data, \n",
    "                         gold_data, \n",
    "                         silver_data, \n",
    "                         copper_data, \n",
    "                         nasdaq_data, \n",
    "                         sp500_data, \n",
    "                         UST_10_data], join='inner', axis=0)\n",
    "combined_df = Combined_df.reset_index()\n",
    "combined_df"
   ]
  },
  {
   "cell_type": "code",
   "execution_count": 61,
   "metadata": {},
   "outputs": [
    {
     "data": {
      "text/html": [
       "<style  type=\"text/css\" >\n",
       "    #T_31f1cbe2_d128_11ea_bac1_c8348e32f095row0_col4 {\n",
       "            background-color:  red;\n",
       "        }    #T_31f1cbe2_d128_11ea_bac1_c8348e32f095row0_col5 {\n",
       "            background_color:  green;\n",
       "        }    #T_31f1cbe2_d128_11ea_bac1_c8348e32f095row0_col6 {\n",
       "            background-color:  red;\n",
       "        }    #T_31f1cbe2_d128_11ea_bac1_c8348e32f095row0_col7 {\n",
       "            background-color:  red;\n",
       "        }    #T_31f1cbe2_d128_11ea_bac1_c8348e32f095row1_col4 {\n",
       "            background-color:  red;\n",
       "        }    #T_31f1cbe2_d128_11ea_bac1_c8348e32f095row1_col5 {\n",
       "            background_color:  green;\n",
       "        }    #T_31f1cbe2_d128_11ea_bac1_c8348e32f095row1_col6 {\n",
       "            background-color:  red;\n",
       "        }    #T_31f1cbe2_d128_11ea_bac1_c8348e32f095row1_col7 {\n",
       "            background_color:  green;\n",
       "        }    #T_31f1cbe2_d128_11ea_bac1_c8348e32f095row2_col4 {\n",
       "            background_color:  green;\n",
       "        }    #T_31f1cbe2_d128_11ea_bac1_c8348e32f095row2_col5 {\n",
       "            background_color:  green;\n",
       "        }    #T_31f1cbe2_d128_11ea_bac1_c8348e32f095row2_col6 {\n",
       "            background_color:  green;\n",
       "        }    #T_31f1cbe2_d128_11ea_bac1_c8348e32f095row2_col7 {\n",
       "            background_color:  green;\n",
       "        }    #T_31f1cbe2_d128_11ea_bac1_c8348e32f095row3_col4 {\n",
       "            background-color:  red;\n",
       "        }    #T_31f1cbe2_d128_11ea_bac1_c8348e32f095row3_col5 {\n",
       "            background_color:  green;\n",
       "        }    #T_31f1cbe2_d128_11ea_bac1_c8348e32f095row3_col6 {\n",
       "            background_color:  green;\n",
       "        }    #T_31f1cbe2_d128_11ea_bac1_c8348e32f095row3_col7 {\n",
       "            background_color:  green;\n",
       "        }    #T_31f1cbe2_d128_11ea_bac1_c8348e32f095row4_col4 {\n",
       "            background_color:  green;\n",
       "        }    #T_31f1cbe2_d128_11ea_bac1_c8348e32f095row4_col5 {\n",
       "            background_color:  green;\n",
       "        }    #T_31f1cbe2_d128_11ea_bac1_c8348e32f095row4_col6 {\n",
       "            background_color:  green;\n",
       "        }    #T_31f1cbe2_d128_11ea_bac1_c8348e32f095row4_col7 {\n",
       "            background_color:  green;\n",
       "        }    #T_31f1cbe2_d128_11ea_bac1_c8348e32f095row5_col4 {\n",
       "            background_color:  green;\n",
       "        }    #T_31f1cbe2_d128_11ea_bac1_c8348e32f095row5_col5 {\n",
       "            background_color:  green;\n",
       "        }    #T_31f1cbe2_d128_11ea_bac1_c8348e32f095row5_col6 {\n",
       "            background_color:  green;\n",
       "        }    #T_31f1cbe2_d128_11ea_bac1_c8348e32f095row5_col7 {\n",
       "            background-color:  red;\n",
       "        }    #T_31f1cbe2_d128_11ea_bac1_c8348e32f095row6_col4 {\n",
       "            background_color:  green;\n",
       "        }    #T_31f1cbe2_d128_11ea_bac1_c8348e32f095row6_col5 {\n",
       "            background_color:  green;\n",
       "        }    #T_31f1cbe2_d128_11ea_bac1_c8348e32f095row6_col6 {\n",
       "            background_color:  green;\n",
       "        }    #T_31f1cbe2_d128_11ea_bac1_c8348e32f095row6_col7 {\n",
       "            background_color:  green;\n",
       "        }    #T_31f1cbe2_d128_11ea_bac1_c8348e32f095row7_col4 {\n",
       "            background-color:  red;\n",
       "        }    #T_31f1cbe2_d128_11ea_bac1_c8348e32f095row7_col5 {\n",
       "            background_color:  green;\n",
       "        }    #T_31f1cbe2_d128_11ea_bac1_c8348e32f095row7_col6 {\n",
       "            background_color:  green;\n",
       "        }    #T_31f1cbe2_d128_11ea_bac1_c8348e32f095row7_col7 {\n",
       "            background-color:  red;\n",
       "        }    #T_31f1cbe2_d128_11ea_bac1_c8348e32f095row8_col4 {\n",
       "            background_color:  green;\n",
       "        }    #T_31f1cbe2_d128_11ea_bac1_c8348e32f095row8_col5 {\n",
       "            background_color:  green;\n",
       "        }    #T_31f1cbe2_d128_11ea_bac1_c8348e32f095row8_col6 {\n",
       "            background_color:  green;\n",
       "        }    #T_31f1cbe2_d128_11ea_bac1_c8348e32f095row8_col7 {\n",
       "            background_color:  green;\n",
       "        }    #T_31f1cbe2_d128_11ea_bac1_c8348e32f095row9_col4 {\n",
       "            background_color:  green;\n",
       "        }    #T_31f1cbe2_d128_11ea_bac1_c8348e32f095row9_col5 {\n",
       "            background_color:  green;\n",
       "        }    #T_31f1cbe2_d128_11ea_bac1_c8348e32f095row9_col6 {\n",
       "            background_color:  green;\n",
       "        }    #T_31f1cbe2_d128_11ea_bac1_c8348e32f095row9_col7 {\n",
       "            background_color:  green;\n",
       "        }    #T_31f1cbe2_d128_11ea_bac1_c8348e32f095row10_col4 {\n",
       "            background-color:  red;\n",
       "        }    #T_31f1cbe2_d128_11ea_bac1_c8348e32f095row10_col5 {\n",
       "            background_color:  green;\n",
       "        }    #T_31f1cbe2_d128_11ea_bac1_c8348e32f095row10_col6 {\n",
       "            background_color:  green;\n",
       "        }    #T_31f1cbe2_d128_11ea_bac1_c8348e32f095row10_col7 {\n",
       "            background_color:  green;\n",
       "        }</style><table id=\"T_31f1cbe2_d128_11ea_bac1_c8348e32f095\" ><thead>    <tr>        <th class=\"blank level0\" ></th>        <th class=\"col_heading level0 col0\" >Date</th>        <th class=\"col_heading level0 col1\" >Asset_Class</th>        <th class=\"col_heading level0 col2\" >Security</th>        <th class=\"col_heading level0 col3\" >Net_Noncommercial_Positions</th>        <th class=\"col_heading level0 col4\" >z_score_1 years</th>        <th class=\"col_heading level0 col5\" >z_score_3 years</th>        <th class=\"col_heading level0 col6\" >z_score_5 years</th>        <th class=\"col_heading level0 col7\" >z_score_10 years</th>    </tr></thead><tbody>\n",
       "                <tr>\n",
       "                        <th id=\"T_31f1cbe2_d128_11ea_bac1_c8348e32f095level0_row0\" class=\"row_heading level0 row0\" >0</th>\n",
       "                        <td id=\"T_31f1cbe2_d128_11ea_bac1_c8348e32f095row0_col0\" class=\"data row0 col0\" >2020-07-21 00:00:00</td>\n",
       "                        <td id=\"T_31f1cbe2_d128_11ea_bac1_c8348e32f095row0_col1\" class=\"data row0 col1\" >Currency</td>\n",
       "                        <td id=\"T_31f1cbe2_d128_11ea_bac1_c8348e32f095row0_col2\" class=\"data row0 col2\" >EURO</td>\n",
       "                        <td id=\"T_31f1cbe2_d128_11ea_bac1_c8348e32f095row0_col3\" class=\"data row0 col3\" >129685.000000</td>\n",
       "                        <td id=\"T_31f1cbe2_d128_11ea_bac1_c8348e32f095row0_col4\" class=\"data row0 col4\" >1.926317</td>\n",
       "                        <td id=\"T_31f1cbe2_d128_11ea_bac1_c8348e32f095row0_col5\" class=\"data row0 col5\" >1.445066</td>\n",
       "                        <td id=\"T_31f1cbe2_d128_11ea_bac1_c8348e32f095row0_col6\" class=\"data row0 col6\" >1.795246</td>\n",
       "                        <td id=\"T_31f1cbe2_d128_11ea_bac1_c8348e32f095row0_col7\" class=\"data row0 col7\" >1.992062</td>\n",
       "            </tr>\n",
       "            <tr>\n",
       "                        <th id=\"T_31f1cbe2_d128_11ea_bac1_c8348e32f095level0_row1\" class=\"row_heading level0 row1\" >1</th>\n",
       "                        <td id=\"T_31f1cbe2_d128_11ea_bac1_c8348e32f095row1_col0\" class=\"data row1 col0\" >2020-07-21 00:00:00</td>\n",
       "                        <td id=\"T_31f1cbe2_d128_11ea_bac1_c8348e32f095row1_col1\" class=\"data row1 col1\" >Currency</td>\n",
       "                        <td id=\"T_31f1cbe2_d128_11ea_bac1_c8348e32f095row1_col2\" class=\"data row1 col2\" >USD</td>\n",
       "                        <td id=\"T_31f1cbe2_d128_11ea_bac1_c8348e32f095row1_col3\" class=\"data row1 col3\" >-5774.000000</td>\n",
       "                        <td id=\"T_31f1cbe2_d128_11ea_bac1_c8348e32f095row1_col4\" class=\"data row1 col4\" >-2.067785</td>\n",
       "                        <td id=\"T_31f1cbe2_d128_11ea_bac1_c8348e32f095row1_col5\" class=\"data row1 col5\" >-1.464556</td>\n",
       "                        <td id=\"T_31f1cbe2_d128_11ea_bac1_c8348e32f095row1_col6\" class=\"data row1 col6\" >-1.628694</td>\n",
       "                        <td id=\"T_31f1cbe2_d128_11ea_bac1_c8348e32f095row1_col7\" class=\"data row1 col7\" >-1.373964</td>\n",
       "            </tr>\n",
       "            <tr>\n",
       "                        <th id=\"T_31f1cbe2_d128_11ea_bac1_c8348e32f095level0_row2\" class=\"row_heading level0 row2\" >2</th>\n",
       "                        <td id=\"T_31f1cbe2_d128_11ea_bac1_c8348e32f095row2_col0\" class=\"data row2 col0\" >2020-07-21 00:00:00</td>\n",
       "                        <td id=\"T_31f1cbe2_d128_11ea_bac1_c8348e32f095row2_col1\" class=\"data row2 col1\" >Currency</td>\n",
       "                        <td id=\"T_31f1cbe2_d128_11ea_bac1_c8348e32f095row2_col2\" class=\"data row2 col2\" >CAD</td>\n",
       "                        <td id=\"T_31f1cbe2_d128_11ea_bac1_c8348e32f095row2_col3\" class=\"data row2 col3\" >-16887.000000</td>\n",
       "                        <td id=\"T_31f1cbe2_d128_11ea_bac1_c8348e32f095row2_col4\" class=\"data row2 col4\" >-0.835768</td>\n",
       "                        <td id=\"T_31f1cbe2_d128_11ea_bac1_c8348e32f095row2_col5\" class=\"data row2 col5\" >-0.418938</td>\n",
       "                        <td id=\"T_31f1cbe2_d128_11ea_bac1_c8348e32f095row2_col6\" class=\"data row2 col6\" >-0.192104</td>\n",
       "                        <td id=\"T_31f1cbe2_d128_11ea_bac1_c8348e32f095row2_col7\" class=\"data row2 col7\" >-0.341249</td>\n",
       "            </tr>\n",
       "            <tr>\n",
       "                        <th id=\"T_31f1cbe2_d128_11ea_bac1_c8348e32f095level0_row3\" class=\"row_heading level0 row3\" >3</th>\n",
       "                        <td id=\"T_31f1cbe2_d128_11ea_bac1_c8348e32f095row3_col0\" class=\"data row3 col0\" >2020-07-21 00:00:00</td>\n",
       "                        <td id=\"T_31f1cbe2_d128_11ea_bac1_c8348e32f095row3_col1\" class=\"data row3 col1\" >Currency</td>\n",
       "                        <td id=\"T_31f1cbe2_d128_11ea_bac1_c8348e32f095row3_col2\" class=\"data row3 col2\" >AUD</td>\n",
       "                        <td id=\"T_31f1cbe2_d128_11ea_bac1_c8348e32f095row3_col3\" class=\"data row3 col3\" >-393.000000</td>\n",
       "                        <td id=\"T_31f1cbe2_d128_11ea_bac1_c8348e32f095row3_col4\" class=\"data row3 col4\" >2.432393</td>\n",
       "                        <td id=\"T_31f1cbe2_d128_11ea_bac1_c8348e32f095row3_col5\" class=\"data row3 col5\" >0.621150</td>\n",
       "                        <td id=\"T_31f1cbe2_d128_11ea_bac1_c8348e32f095row3_col6\" class=\"data row3 col6\" >0.301909</td>\n",
       "                        <td id=\"T_31f1cbe2_d128_11ea_bac1_c8348e32f095row3_col7\" class=\"data row3 col7\" >-0.058012</td>\n",
       "            </tr>\n",
       "            <tr>\n",
       "                        <th id=\"T_31f1cbe2_d128_11ea_bac1_c8348e32f095level0_row4\" class=\"row_heading level0 row4\" >4</th>\n",
       "                        <td id=\"T_31f1cbe2_d128_11ea_bac1_c8348e32f095row4_col0\" class=\"data row4 col0\" >2020-07-21 00:00:00</td>\n",
       "                        <td id=\"T_31f1cbe2_d128_11ea_bac1_c8348e32f095row4_col1\" class=\"data row4 col1\" >Currency</td>\n",
       "                        <td id=\"T_31f1cbe2_d128_11ea_bac1_c8348e32f095row4_col2\" class=\"data row4 col2\" >Bitcoin</td>\n",
       "                        <td id=\"T_31f1cbe2_d128_11ea_bac1_c8348e32f095row4_col3\" class=\"data row4 col3\" >-1711.000000</td>\n",
       "                        <td id=\"T_31f1cbe2_d128_11ea_bac1_c8348e32f095row4_col4\" class=\"data row4 col4\" >-1.037479</td>\n",
       "                        <td id=\"T_31f1cbe2_d128_11ea_bac1_c8348e32f095row4_col5\" class=\"data row4 col5\" >nan</td>\n",
       "                        <td id=\"T_31f1cbe2_d128_11ea_bac1_c8348e32f095row4_col6\" class=\"data row4 col6\" >nan</td>\n",
       "                        <td id=\"T_31f1cbe2_d128_11ea_bac1_c8348e32f095row4_col7\" class=\"data row4 col7\" >nan</td>\n",
       "            </tr>\n",
       "            <tr>\n",
       "                        <th id=\"T_31f1cbe2_d128_11ea_bac1_c8348e32f095level0_row5\" class=\"row_heading level0 row5\" >5</th>\n",
       "                        <td id=\"T_31f1cbe2_d128_11ea_bac1_c8348e32f095row5_col0\" class=\"data row5 col0\" >2020-07-21 00:00:00</td>\n",
       "                        <td id=\"T_31f1cbe2_d128_11ea_bac1_c8348e32f095row5_col1\" class=\"data row5 col1\" >Commodity</td>\n",
       "                        <td id=\"T_31f1cbe2_d128_11ea_bac1_c8348e32f095row5_col2\" class=\"data row5 col2\" >Gold</td>\n",
       "                        <td id=\"T_31f1cbe2_d128_11ea_bac1_c8348e32f095row5_col3\" class=\"data row5 col3\" >298715.000000</td>\n",
       "                        <td id=\"T_31f1cbe2_d128_11ea_bac1_c8348e32f095row5_col4\" class=\"data row5 col4\" >-0.204250</td>\n",
       "                        <td id=\"T_31f1cbe2_d128_11ea_bac1_c8348e32f095row5_col5\" class=\"data row5 col5\" >0.996012</td>\n",
       "                        <td id=\"T_31f1cbe2_d128_11ea_bac1_c8348e32f095row5_col6\" class=\"data row5 col6\" >1.143645</td>\n",
       "                        <td id=\"T_31f1cbe2_d128_11ea_bac1_c8348e32f095row5_col7\" class=\"data row5 col7\" >1.529528</td>\n",
       "            </tr>\n",
       "            <tr>\n",
       "                        <th id=\"T_31f1cbe2_d128_11ea_bac1_c8348e32f095level0_row6\" class=\"row_heading level0 row6\" >6</th>\n",
       "                        <td id=\"T_31f1cbe2_d128_11ea_bac1_c8348e32f095row6_col0\" class=\"data row6 col0\" >2020-07-21 00:00:00</td>\n",
       "                        <td id=\"T_31f1cbe2_d128_11ea_bac1_c8348e32f095row6_col1\" class=\"data row6 col1\" >Commodity</td>\n",
       "                        <td id=\"T_31f1cbe2_d128_11ea_bac1_c8348e32f095row6_col2\" class=\"data row6 col2\" >Silver</td>\n",
       "                        <td id=\"T_31f1cbe2_d128_11ea_bac1_c8348e32f095row6_col3\" class=\"data row6 col3\" >47134.000000</td>\n",
       "                        <td id=\"T_31f1cbe2_d128_11ea_bac1_c8348e32f095row6_col4\" class=\"data row6 col4\" >-0.133112</td>\n",
       "                        <td id=\"T_31f1cbe2_d128_11ea_bac1_c8348e32f095row6_col5\" class=\"data row6 col5\" >0.645525</td>\n",
       "                        <td id=\"T_31f1cbe2_d128_11ea_bac1_c8348e32f095row6_col6\" class=\"data row6 col6\" >0.205783</td>\n",
       "                        <td id=\"T_31f1cbe2_d128_11ea_bac1_c8348e32f095row6_col7\" class=\"data row6 col7\" >0.574733</td>\n",
       "            </tr>\n",
       "            <tr>\n",
       "                        <th id=\"T_31f1cbe2_d128_11ea_bac1_c8348e32f095level0_row7\" class=\"row_heading level0 row7\" >7</th>\n",
       "                        <td id=\"T_31f1cbe2_d128_11ea_bac1_c8348e32f095row7_col0\" class=\"data row7 col0\" >2020-07-21 00:00:00</td>\n",
       "                        <td id=\"T_31f1cbe2_d128_11ea_bac1_c8348e32f095row7_col1\" class=\"data row7 col1\" >Commodity</td>\n",
       "                        <td id=\"T_31f1cbe2_d128_11ea_bac1_c8348e32f095row7_col2\" class=\"data row7 col2\" >Copper</td>\n",
       "                        <td id=\"T_31f1cbe2_d128_11ea_bac1_c8348e32f095row7_col3\" class=\"data row7 col3\" >38426.000000</td>\n",
       "                        <td id=\"T_31f1cbe2_d128_11ea_bac1_c8348e32f095row7_col4\" class=\"data row7 col4\" >2.694369</td>\n",
       "                        <td id=\"T_31f1cbe2_d128_11ea_bac1_c8348e32f095row7_col5\" class=\"data row7 col5\" >1.089320</td>\n",
       "                        <td id=\"T_31f1cbe2_d128_11ea_bac1_c8348e32f095row7_col6\" class=\"data row7 col6\" >1.194951</td>\n",
       "                        <td id=\"T_31f1cbe2_d128_11ea_bac1_c8348e32f095row7_col7\" class=\"data row7 col7\" >1.548301</td>\n",
       "            </tr>\n",
       "            <tr>\n",
       "                        <th id=\"T_31f1cbe2_d128_11ea_bac1_c8348e32f095level0_row8\" class=\"row_heading level0 row8\" >8</th>\n",
       "                        <td id=\"T_31f1cbe2_d128_11ea_bac1_c8348e32f095row8_col0\" class=\"data row8 col0\" >2020-07-21 00:00:00</td>\n",
       "                        <td id=\"T_31f1cbe2_d128_11ea_bac1_c8348e32f095row8_col1\" class=\"data row8 col1\" >Equities</td>\n",
       "                        <td id=\"T_31f1cbe2_d128_11ea_bac1_c8348e32f095row8_col2\" class=\"data row8 col2\" >NASDAQ</td>\n",
       "                        <td id=\"T_31f1cbe2_d128_11ea_bac1_c8348e32f095row8_col3\" class=\"data row8 col3\" >17843.000000</td>\n",
       "                        <td id=\"T_31f1cbe2_d128_11ea_bac1_c8348e32f095row8_col4\" class=\"data row8 col4\" >-0.509683</td>\n",
       "                        <td id=\"T_31f1cbe2_d128_11ea_bac1_c8348e32f095row8_col5\" class=\"data row8 col5\" >0.042176</td>\n",
       "                        <td id=\"T_31f1cbe2_d128_11ea_bac1_c8348e32f095row8_col6\" class=\"data row8 col6\" >-0.492482</td>\n",
       "                        <td id=\"T_31f1cbe2_d128_11ea_bac1_c8348e32f095row8_col7\" class=\"data row8 col7\" >-0.815063</td>\n",
       "            </tr>\n",
       "            <tr>\n",
       "                        <th id=\"T_31f1cbe2_d128_11ea_bac1_c8348e32f095level0_row9\" class=\"row_heading level0 row9\" >9</th>\n",
       "                        <td id=\"T_31f1cbe2_d128_11ea_bac1_c8348e32f095row9_col0\" class=\"data row9 col0\" >2020-07-21 00:00:00</td>\n",
       "                        <td id=\"T_31f1cbe2_d128_11ea_bac1_c8348e32f095row9_col1\" class=\"data row9 col1\" >Equities</td>\n",
       "                        <td id=\"T_31f1cbe2_d128_11ea_bac1_c8348e32f095row9_col2\" class=\"data row9 col2\" >S&P500</td>\n",
       "                        <td id=\"T_31f1cbe2_d128_11ea_bac1_c8348e32f095row9_col3\" class=\"data row9 col3\" >624.000000</td>\n",
       "                        <td id=\"T_31f1cbe2_d128_11ea_bac1_c8348e32f095row9_col4\" class=\"data row9 col4\" >-0.484698</td>\n",
       "                        <td id=\"T_31f1cbe2_d128_11ea_bac1_c8348e32f095row9_col5\" class=\"data row9 col5\" >-0.187257</td>\n",
       "                        <td id=\"T_31f1cbe2_d128_11ea_bac1_c8348e32f095row9_col6\" class=\"data row9 col6\" >-0.064872</td>\n",
       "                        <td id=\"T_31f1cbe2_d128_11ea_bac1_c8348e32f095row9_col7\" class=\"data row9 col7\" >-0.055088</td>\n",
       "            </tr>\n",
       "            <tr>\n",
       "                        <th id=\"T_31f1cbe2_d128_11ea_bac1_c8348e32f095level0_row10\" class=\"row_heading level0 row10\" >10</th>\n",
       "                        <td id=\"T_31f1cbe2_d128_11ea_bac1_c8348e32f095row10_col0\" class=\"data row10 col0\" >2020-07-21 00:00:00</td>\n",
       "                        <td id=\"T_31f1cbe2_d128_11ea_bac1_c8348e32f095row10_col1\" class=\"data row10 col1\" >Fixed Income</td>\n",
       "                        <td id=\"T_31f1cbe2_d128_11ea_bac1_c8348e32f095row10_col2\" class=\"data row10 col2\" >10 yr US Treasury</td>\n",
       "                        <td id=\"T_31f1cbe2_d128_11ea_bac1_c8348e32f095row10_col3\" class=\"data row10 col3\" >87007.000000</td>\n",
       "                        <td id=\"T_31f1cbe2_d128_11ea_bac1_c8348e32f095row10_col4\" class=\"data row10 col4\" >1.762705</td>\n",
       "                        <td id=\"T_31f1cbe2_d128_11ea_bac1_c8348e32f095row10_col5\" class=\"data row10 col5\" >1.275633</td>\n",
       "                        <td id=\"T_31f1cbe2_d128_11ea_bac1_c8348e32f095row10_col6\" class=\"data row10 col6\" >0.937512</td>\n",
       "                        <td id=\"T_31f1cbe2_d128_11ea_bac1_c8348e32f095row10_col7\" class=\"data row10 col7\" >0.933062</td>\n",
       "            </tr>\n",
       "    </tbody></table>"
      ],
      "text/plain": [
       "<pandas.io.formats.style.Styler at 0x20d9b8c9b88>"
      ]
     },
     "execution_count": 61,
     "metadata": {},
     "output_type": "execute_result"
    }
   ],
   "source": [
    "#Conditional formatting\n",
    "overbought_threshold = 1.5\n",
    "oversold_threshold = -1.5\n",
    "\n",
    "df_styled = combined_df.style\\\n",
    "    .applymap(lambda x: 'background-color: %s' % 'red' if x > overbought_threshold or x < oversold_threshold else 'background_color: %s' % 'green', subset=['z_score_1 years'])\\\n",
    "    .applymap(lambda x: 'background-color: %s' % 'red' if x > overbought_threshold or x < oversold_threshold else 'background_color: %s' % 'green', subset=['z_score_3 years'])\\\n",
    "    .applymap(lambda x: 'background-color: %s' % 'red' if x > overbought_threshold or x < oversold_threshold else 'background_color: %s' % 'green', subset=['z_score_5 years'])\\\n",
    "    .applymap(lambda x: 'background-color: %s' % 'red' if x > overbought_threshold or x < oversold_threshold else 'background_color: %s' % 'green', subset=['z_score_10 years'])\\\n",
    "\n",
    "df_styled"
   ]
  },
  {
   "cell_type": "code",
   "execution_count": null,
   "metadata": {},
   "outputs": [],
   "source": []
  }
 ],
 "metadata": {
  "kernelspec": {
   "display_name": "Python 3",
   "language": "python",
   "name": "python3"
  },
  "language_info": {
   "codemirror_mode": {
    "name": "ipython",
    "version": 3
   },
   "file_extension": ".py",
   "mimetype": "text/x-python",
   "name": "python",
   "nbconvert_exporter": "python",
   "pygments_lexer": "ipython3",
   "version": "3.7.7"
  }
 },
 "nbformat": 4,
 "nbformat_minor": 4
}
