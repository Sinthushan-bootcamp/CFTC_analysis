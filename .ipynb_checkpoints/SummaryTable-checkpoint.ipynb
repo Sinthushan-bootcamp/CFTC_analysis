{
 "cells": [
  {
   "cell_type": "code",
   "execution_count": 1,
   "metadata": {},
   "outputs": [],
   "source": [
    "import numpy as np\n",
    "import pandas as pd\n",
    "import os\n",
    "import quandl as ql"
   ]
  },
  {
   "cell_type": "code",
   "execution_count": 2,
   "metadata": {},
   "outputs": [
    {
     "data": {
      "text/plain": [
       "True"
      ]
     },
     "execution_count": 2,
     "metadata": {},
     "output_type": "execute_result"
    }
   ],
   "source": [
    "from dotenv import load_dotenv\n",
    "load_dotenv()"
   ]
  },
  {
   "cell_type": "code",
   "execution_count": 3,
   "metadata": {},
   "outputs": [],
   "source": [
    "QUANDL_KEY = os.getenv(\"QUANDL_KEY\")"
   ]
  },
  {
   "cell_type": "code",
   "execution_count": 4,
   "metadata": {},
   "outputs": [],
   "source": [
    "ql.ApiConfig.api_key = QUANDL_KEY"
   ]
  },
  {
   "cell_type": "code",
   "execution_count": 5,
   "metadata": {},
   "outputs": [],
   "source": [
    "def cleanData(df, asset_class, security):\n",
    "    cleaned_df = df[['Noncommercial Long', 'Noncommercial Short']]\n",
    "    cleaned_df['net_noncomercial'] = cleaned_df['Noncommercial Long'] - cleaned_df['Noncommercial Short']\n",
    "    cleaned_df['asset_class'] = asset_class\n",
    "    cleaned_df['security'] = security\n",
    "    return cleaned_df[['asset_class','security','net_noncomercial']]"
   ]
  },
  {
   "cell_type": "code",
   "execution_count": 6,
   "metadata": {},
   "outputs": [],
   "source": [
    "def get_stats(df, window):\n",
    "    roling_df = df.rolling(window=window)\n",
    "    mean = roling_df.mean().shift(1)\n",
    "    std = roling_df.std(ddof=0).shift(1)\n",
    "    z_score = (df-mean)/std\n",
    "    return mean, std, z_score"
   ]
  },
  {
   "cell_type": "code",
   "execution_count": 7,
   "metadata": {},
   "outputs": [],
   "source": [
    "def get_stats_multi_interval(df, windows):\n",
    "    df_temp = pd.DataFrame()\n",
    "    for window in windows: \n",
    "        roling_df = df.rolling(window=window)\n",
    "        mean = roling_df.mean().shift(1)\n",
    "        std = roling_df.std(ddof=0).shift(1)\n",
    "        z_score = (df-mean)/std\n",
    "        df_temp[f\"mean_{window//52} years\"] = mean\n",
    "        df_temp[f\"std_{window//52} years\"] = std\n",
    "        df_temp[f\"z_score_{window//52} years\"] = z_score\n",
    "    return df_temp"
   ]
  },
  {
   "cell_type": "code",
   "execution_count": 8,
   "metadata": {},
   "outputs": [],
   "source": [
    "def createSummaryDF(df, interval):\n",
    "    #df = df.reset_index()\n",
    "    summary_df = pd.DataFrame()\n",
    "    for i in range(len(df.index)):\n",
    "        if i > interval and i % interval == 0:\n",
    "            summary_df = summary_df.append(df.iloc[i])\n",
    "    return summary_df"
   ]
  },
  {
   "cell_type": "code",
   "execution_count": 10,
   "metadata": {},
   "outputs": [
    {
     "name": "stderr",
     "output_type": "stream",
     "text": [
      "C:\\Users\\sinth\\anaconda3\\envs\\pyvizenv\\lib\\site-packages\\ipykernel_launcher.py:3: SettingWithCopyWarning: \n",
      "A value is trying to be set on a copy of a slice from a DataFrame.\n",
      "Try using .loc[row_indexer,col_indexer] = value instead\n",
      "\n",
      "See the caveats in the documentation: http://pandas.pydata.org/pandas-docs/stable/indexing.html#indexing-view-versus-copy\n",
      "  This is separate from the ipykernel package so we can avoid doing imports until\n",
      "C:\\Users\\sinth\\anaconda3\\envs\\pyvizenv\\lib\\site-packages\\ipykernel_launcher.py:4: SettingWithCopyWarning: \n",
      "A value is trying to be set on a copy of a slice from a DataFrame.\n",
      "Try using .loc[row_indexer,col_indexer] = value instead\n",
      "\n",
      "See the caveats in the documentation: http://pandas.pydata.org/pandas-docs/stable/indexing.html#indexing-view-versus-copy\n",
      "  after removing the cwd from sys.path.\n",
      "C:\\Users\\sinth\\anaconda3\\envs\\pyvizenv\\lib\\site-packages\\ipykernel_launcher.py:5: SettingWithCopyWarning: \n",
      "A value is trying to be set on a copy of a slice from a DataFrame.\n",
      "Try using .loc[row_indexer,col_indexer] = value instead\n",
      "\n",
      "See the caveats in the documentation: http://pandas.pydata.org/pandas-docs/stable/indexing.html#indexing-view-versus-copy\n",
      "  \"\"\"\n"
     ]
    },
    {
     "data": {
      "text/html": [
       "<div>\n",
       "<style scoped>\n",
       "    .dataframe tbody tr th:only-of-type {\n",
       "        vertical-align: middle;\n",
       "    }\n",
       "\n",
       "    .dataframe tbody tr th {\n",
       "        vertical-align: top;\n",
       "    }\n",
       "\n",
       "    .dataframe thead th {\n",
       "        text-align: right;\n",
       "    }\n",
       "</style>\n",
       "<table border=\"1\" class=\"dataframe\">\n",
       "  <thead>\n",
       "    <tr style=\"text-align: right;\">\n",
       "      <th></th>\n",
       "      <th>asset_class</th>\n",
       "      <th>security</th>\n",
       "      <th>net_noncomercial</th>\n",
       "      <th>mean_3 years</th>\n",
       "      <th>std_3 years</th>\n",
       "      <th>z_score_3 years</th>\n",
       "      <th>mean_5 years</th>\n",
       "      <th>std_5 years</th>\n",
       "      <th>z_score_5 years</th>\n",
       "      <th>mean_10 years</th>\n",
       "      <th>std_10 years</th>\n",
       "      <th>z_score_10 years</th>\n",
       "    </tr>\n",
       "    <tr>\n",
       "      <th>Date</th>\n",
       "      <th></th>\n",
       "      <th></th>\n",
       "      <th></th>\n",
       "      <th></th>\n",
       "      <th></th>\n",
       "      <th></th>\n",
       "      <th></th>\n",
       "      <th></th>\n",
       "      <th></th>\n",
       "      <th></th>\n",
       "      <th></th>\n",
       "      <th></th>\n",
       "    </tr>\n",
       "  </thead>\n",
       "  <tbody>\n",
       "    <tr>\n",
       "      <th>2020-07-21</th>\n",
       "      <td>Commodity</td>\n",
       "      <td>Silver</td>\n",
       "      <td>47134.0</td>\n",
       "      <td>28779.878205</td>\n",
       "      <td>28432.876886</td>\n",
       "      <td>0.645525</td>\n",
       "      <td>40680.938462</td>\n",
       "      <td>31358.512456</td>\n",
       "      <td>0.205783</td>\n",
       "      <td>32495.563462</td>\n",
       "      <td>25469.992162</td>\n",
       "      <td>0.574733</td>\n",
       "    </tr>\n",
       "  </tbody>\n",
       "</table>\n",
       "</div>"
      ],
      "text/plain": [
       "           asset_class security  net_noncomercial  mean_3 years   std_3 years  \\\n",
       "Date                                                                            \n",
       "2020-07-21   Commodity   Silver           47134.0  28779.878205  28432.876886   \n",
       "\n",
       "            z_score_3 years  mean_5 years   std_5 years  z_score_5 years  \\\n",
       "Date                                                                       \n",
       "2020-07-21         0.645525  40680.938462  31358.512456         0.205783   \n",
       "\n",
       "            mean_10 years  std_10 years  z_score_10 years  \n",
       "Date                                                       \n",
       "2020-07-21   32495.563462  25469.992162          0.574733  "
      ]
     },
     "execution_count": 10,
     "metadata": {},
     "output_type": "execute_result"
    }
   ],
   "source": [
    "data = ql.get('CFTC/084691_FO_L_ALL')\n",
    "interval = 52*3\n",
    "data_cleaned = cleanData(data, \"Commodity\", 'Silver')\n",
    "stats_df = get_stats_multi_interval(data_cleaned.loc[:,'net_noncomercial'],[52*3,52*5,52*10])\n",
    "df_concate = pd.concat([data_cleaned,stats_df], join='inner', axis=1)\n",
    "summary_df = df_concate.last('1d')\n",
    "summary_df"
   ]
  }
 ],
 "metadata": {
  "kernelspec": {
   "display_name": "Python [conda env:pyvizenv] *",
   "language": "python",
   "name": "conda-env-pyvizenv-py"
  },
  "language_info": {
   "codemirror_mode": {
    "name": "ipython",
    "version": 3
   },
   "file_extension": ".py",
   "mimetype": "text/x-python",
   "name": "python",
   "nbconvert_exporter": "python",
   "pygments_lexer": "ipython3",
   "version": "3.7.7"
  }
 },
 "nbformat": 4,
 "nbformat_minor": 4
}
